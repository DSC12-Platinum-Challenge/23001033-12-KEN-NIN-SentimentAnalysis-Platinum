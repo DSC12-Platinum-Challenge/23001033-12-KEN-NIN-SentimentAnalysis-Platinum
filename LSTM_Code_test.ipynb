{
 "cells": [
  {
   "cell_type": "code",
   "execution_count": 35,
   "metadata": {},
   "outputs": [],
   "source": [
    "import pandas as pd\n",
    "import numpy as np\n",
    "import seaborn as sns\n",
    "import matplotlib.pyplot as plt\n",
    "import sqlite3\n",
    "import pickle\n",
    "from tensorflow.keras.preprocessing.text import Tokenizer\n",
    "from tensorflow.keras.preprocessing.sequence import pad_sequences\n",
    "from collections import defaultdict\n",
    "from sklearn.model_selection import train_test_split\n",
    "from tensorflow.keras import layers\n",
    "from tensorflow.keras.models import Sequential\n",
    "from tensorflow.keras.layers import Dense, Embedding, LSTM, SpatialDropout1D, SimpleRNN, Activation\n",
    "from tensorflow.keras import optimizers\n",
    "from tensorflow.keras.callbacks import EarlyStopping, TensorBoard\n",
    "from tensorflow.keras.layers import Flatten\n",
    "from tensorflow.keras import backend as K\n",
    "from sklearn import metrics\n",
    "from sklearn.metrics import classification_report\n",
    "from sklearn.metrics import accuracy_score\n",
    "from sklearn.model_selection import KFold\n",
    "from keras.models import load_model\n",
    "import re"
   ]
  },
  {
   "cell_type": "code",
   "execution_count": 36,
   "metadata": {},
   "outputs": [
    {
     "data": {
      "text/html": [
       "<div>\n",
       "<style scoped>\n",
       "    .dataframe tbody tr th:only-of-type {\n",
       "        vertical-align: middle;\n",
       "    }\n",
       "\n",
       "    .dataframe tbody tr th {\n",
       "        vertical-align: top;\n",
       "    }\n",
       "\n",
       "    .dataframe thead th {\n",
       "        text-align: right;\n",
       "    }\n",
       "</style>\n",
       "<table border=\"1\" class=\"dataframe\">\n",
       "  <thead>\n",
       "    <tr style=\"text-align: right;\">\n",
       "      <th></th>\n",
       "      <th>Tweet</th>\n",
       "      <th>Label</th>\n",
       "    </tr>\n",
       "  </thead>\n",
       "  <tbody>\n",
       "    <tr>\n",
       "      <th>0</th>\n",
       "      <td>warung dimiliki pengusaha pabrik puluhan terke...</td>\n",
       "      <td>positive</td>\n",
       "    </tr>\n",
       "    <tr>\n",
       "      <th>1</th>\n",
       "      <td>mohon ulama lurus k mmbri hujjah partai diwlh ...</td>\n",
       "      <td>neutral</td>\n",
       "    </tr>\n",
       "    <tr>\n",
       "      <th>2</th>\n",
       "      <td>lokasi strategis jalan sumatra bandung nyaman ...</td>\n",
       "      <td>positive</td>\n",
       "    </tr>\n",
       "    <tr>\n",
       "      <th>3</th>\n",
       "      <td>betapa bahagia unboxing paket barang bagus men...</td>\n",
       "      <td>positive</td>\n",
       "    </tr>\n",
       "    <tr>\n",
       "      <th>4</th>\n",
       "      <td>aduh mahasiswa sombong kasih kartu kuning bela...</td>\n",
       "      <td>negative</td>\n",
       "    </tr>\n",
       "  </tbody>\n",
       "</table>\n",
       "</div>"
      ],
      "text/plain": [
       "                                               Tweet     Label\n",
       "0  warung dimiliki pengusaha pabrik puluhan terke...  positive\n",
       "1  mohon ulama lurus k mmbri hujjah partai diwlh ...   neutral\n",
       "2  lokasi strategis jalan sumatra bandung nyaman ...  positive\n",
       "3  betapa bahagia unboxing paket barang bagus men...  positive\n",
       "4  aduh mahasiswa sombong kasih kartu kuning bela...  negative"
      ]
     },
     "execution_count": 36,
     "metadata": {},
     "output_type": "execute_result"
    }
   ],
   "source": [
    "conn = sqlite3.connect(r'C:\\Users\\kenta\\OneDrive\\Desktop\\Platinum Binar\\database.db', check_same_thread=False)\n",
    "query = 'SELECT * FROM new_data'\n",
    "data = pd.read_sql_query (query, conn)\n",
    "data.head()"
   ]
  },
  {
   "cell_type": "code",
   "execution_count": 37,
   "metadata": {},
   "outputs": [
    {
     "data": {
      "text/plain": [
       "Label\n",
       "positive    6383\n",
       "negative    3412\n",
       "neutral     1138\n",
       "Name: count, dtype: int64"
      ]
     },
     "execution_count": 37,
     "metadata": {},
     "output_type": "execute_result"
    }
   ],
   "source": [
    "data['Label'].value_counts()\n"
   ]
  },
  {
   "cell_type": "code",
   "execution_count": 38,
   "metadata": {},
   "outputs": [],
   "source": [
    "# Oversampling neutral label to be equal with negative label\n",
    "\n",
    "data_pos = data[data['Label']=='positive']\n",
    "data_neu = data[data['Label']=='neutral']\n",
    "data_neg = data[data['Label']=='negative']\n",
    "\n",
    "df_neu = data_neu.sample(data_neg.shape[0], replace = True)\n",
    "\n",
    "data = pd.concat([data_pos, df_neu, data_neg])\n",
    "\n",
    "# Group data tweet\n",
    "\n",
    "pos_tweet = data.loc[data['Label']=='positive'].Tweet.tolist()\n",
    "neg_tweet = data.loc[data['Label']=='negative'].Tweet.tolist()\n",
    "neu_tweet = data.loc[data['Label']=='neutral'].Tweet.tolist()\n",
    "\n",
    "# Group data label\n",
    "\n",
    "pos_label = data.loc[data['Label']=='positive'].Label.tolist()\n",
    "neg_label = data.loc[data['Label']=='negative'].Label.tolist()\n",
    "neu_label = data.loc[data['Label']=='neutral'].Label.tolist()"
   ]
  },
  {
   "cell_type": "code",
   "execution_count": 39,
   "metadata": {},
   "outputs": [
    {
     "name": "stdout",
     "output_type": "stream",
     "text": [
      "Positive: 6383, Neutral: 3412, Negative: 3412\n",
      "Total data: 13207\n",
      "Total labels: 13207\n"
     ]
    }
   ],
   "source": [
    "# Final sentiment data check\n",
    "\n",
    "total_tweets_assemble = pos_tweet + neg_tweet + neu_tweet\n",
    "labels = pos_label + neu_label + neg_label\n",
    "\n",
    "print(\"Positive: %s, Neutral: %s, Negative: %s\" % (len(pos_tweet), len(neu_tweet), len(neg_tweet)))\n",
    "print(\"Total data: %s\" % len(total_tweets_assemble))\n",
    "print(\"Total labels: %s\" % len(labels))"
   ]
  },
  {
   "cell_type": "markdown",
   "metadata": {},
   "source": [
    "Feature Extraction\n",
    "\n",
    "Pemanfaatan tokenizer untuk melakukan ekstraksi data agar mudah diproses dalam modeling data."
   ]
  },
  {
   "cell_type": "code",
   "execution_count": 40,
   "metadata": {},
   "outputs": [
    {
     "name": "stdout",
     "output_type": "stream",
     "text": [
      "File \"TokenizerFile.pickle\" telah tercetak!\n"
     ]
    }
   ],
   "source": [
    "max_features_tokenize = 100000\n",
    "data_tokenizer = Tokenizer(num_words=max_features_tokenize, split=' ', lower=True)\n",
    "data_tokenizer.fit_on_texts(total_tweets_assemble)\n",
    "\n",
    "#Penyimpanan data TokenizerFile kedalam pickle\n",
    "with open('TokenizerFile.pickle', 'wb') as file:\n",
    "    pickle.dump(data_tokenizer, file , protocol=pickle.HIGHEST_PROTOCOL)\n",
    "    print('File \"TokenizerFile.pickle\" telah tercetak!')"
   ]
  },
  {
   "cell_type": "code",
   "execution_count": 41,
   "metadata": {},
   "outputs": [
    {
     "name": "stdout",
     "output_type": "stream",
     "text": [
      "File \"x_pad_sequences.pickle\" telah tercetak!\n"
     ]
    }
   ],
   "source": [
    "#Feature Extraction of X data\n",
    "X = data_tokenizer.texts_to_sequences(total_tweets_assemble)\n",
    "maxlen = max(len(x) for x in X)\n",
    "X = pad_sequences(X)\n",
    "\n",
    "#Penyimpanan data x_pad_sequences kedalam pickle\n",
    "with open('x_pad_sequences.pickle', 'wb') as file:\n",
    "    pickle.dump(X, file , protocol=pickle.HIGHEST_PROTOCOL)\n",
    "    print('File \"x_pad_sequences.pickle\" telah tercetak!')\n",
    "\n",
    "\n",
    "#Feature Extraction of Y data\n",
    "y = pd.get_dummies(labels)\n",
    "y = y.values\n",
    "\n",
    "#Penyimpanan data x_target kedalam library pickle\n",
    "with open('x_target.pickle', 'wb') as file:\n",
    "    pickle.dump(y, file, protocol=pickle.HIGHEST_PROTOCOL)"
   ]
  },
  {
   "cell_type": "code",
   "execution_count": 42,
   "metadata": {},
   "outputs": [
    {
     "data": {
      "text/plain": [
       "(13207, 55)"
      ]
     },
     "execution_count": 42,
     "metadata": {},
     "output_type": "execute_result"
    }
   ],
   "source": [
    "X.shape"
   ]
  },
  {
   "cell_type": "markdown",
   "metadata": {},
   "source": [
    "Train-Test Split Data"
   ]
  },
  {
   "cell_type": "code",
   "execution_count": 43,
   "metadata": {},
   "outputs": [],
   "source": [
    "#Split train-test dataset\n",
    "#Loading Dataset\n",
    "x_file = open('x_pad_sequences.pickle', 'rb')\n",
    "x = pickle.load(x_file)\n",
    "x_file.close()\n",
    "\n",
    "y_file = open('x_target.pickle', 'rb')\n",
    "y = pickle.load(y_file)\n",
    "y_file.close()\n",
    "\n",
    "x_train, x_test, y_train, y_test = train_test_split(x,y, test_size= 0.3, random_state=42)"
   ]
  },
  {
   "cell_type": "code",
   "execution_count": 44,
   "metadata": {},
   "outputs": [
    {
     "name": "stdout",
     "output_type": "stream",
     "text": [
      "Model: \"sequential_6\"\n",
      "_________________________________________________________________\n",
      " Layer (type)                Output Shape              Param #   \n",
      "=================================================================\n",
      " embedding_6 (Embedding)     (None, 55, 100)           10000000  \n",
      "                                                                 \n",
      " lstm_6 (LSTM)               (None, 64)                42240     \n",
      "                                                                 \n",
      " dense_6 (Dense)             (None, 3)                 195       \n",
      "                                                                 \n",
      "=================================================================\n",
      "Total params: 10042435 (38.31 MB)\n",
      "Trainable params: 10042435 (38.31 MB)\n",
      "Non-trainable params: 0 (0.00 Byte)\n",
      "_________________________________________________________________\n",
      "None\n",
      "Epoch 1/20\n",
      "289/289 [==============================] - 29s 94ms/step - loss: 0.9274 - accuracy: 0.5822 - val_loss: 0.7507 - val_accuracy: 0.6667\n",
      "Epoch 2/20\n",
      "289/289 [==============================] - 27s 94ms/step - loss: 0.6876 - accuracy: 0.6833 - val_loss: 0.6370 - val_accuracy: 0.6805\n",
      "Epoch 3/20\n",
      "289/289 [==============================] - 26s 90ms/step - loss: 0.5843 - accuracy: 0.7354 - val_loss: 0.5560 - val_accuracy: 0.7951\n",
      "Epoch 4/20\n",
      "289/289 [==============================] - 26s 89ms/step - loss: 0.4836 - accuracy: 0.8209 - val_loss: 0.4825 - val_accuracy: 0.8282\n",
      "Epoch 5/20\n",
      "289/289 [==============================] - 26s 90ms/step - loss: 0.3899 - accuracy: 0.8639 - val_loss: 0.4357 - val_accuracy: 0.8433\n",
      "Epoch 6/20\n",
      "289/289 [==============================] - 27s 92ms/step - loss: 0.3187 - accuracy: 0.8866 - val_loss: 0.3996 - val_accuracy: 0.8567\n",
      "Epoch 7/20\n",
      "289/289 [==============================] - 27s 93ms/step - loss: 0.2644 - accuracy: 0.9062 - val_loss: 0.3907 - val_accuracy: 0.8589\n",
      "Epoch 8/20\n",
      "289/289 [==============================] - 26s 91ms/step - loss: 0.2242 - accuracy: 0.9206 - val_loss: 0.3851 - val_accuracy: 0.8635\n",
      "Epoch 9/20\n",
      "289/289 [==============================] - 26s 92ms/step - loss: 0.1897 - accuracy: 0.9335 - val_loss: 0.3819 - val_accuracy: 0.8670\n",
      "Epoch 10/20\n",
      "289/289 [==============================] - 25s 85ms/step - loss: 0.1637 - accuracy: 0.9441 - val_loss: 0.3920 - val_accuracy: 0.8673\n",
      "Epoch 11/20\n",
      "289/289 [==============================] - 25s 85ms/step - loss: 0.1407 - accuracy: 0.9527 - val_loss: 0.3884 - val_accuracy: 0.8721\n",
      "Epoch 11: early stopping\n"
     ]
    }
   ],
   "source": [
    "#Pelatihan model menggunakan Train-Test Split\n",
    "model = Sequential()\n",
    "model.add(Embedding(max_features_tokenize, output_dim = 100, input_length = x.shape[1] ))\n",
    "model.add(LSTM(units= 64, dropout=0.2))\n",
    "model.add(Dense(units=y.shape[1], activation= 'softmax'))\n",
    "model.compile(loss = 'binary_crossentropy', optimizer='adam', metrics = ['accuracy'])\n",
    "print(model.summary())\n",
    "\n",
    "adam_optim = optimizers.Adam(learning_rate = 0.0001)\n",
    "model.compile(loss = 'categorical_crossentropy', optimizer = adam_optim, metrics = ['accuracy'])\n",
    "\n",
    "es = EarlyStopping(monitor='val_loss', mode='min', verbose=1, patience=2)\n",
    "history1 = model.fit(x_train, y_train, epochs=20, batch_size=32, \n",
    "                        validation_data=(x_test, y_test), verbose=1, callbacks=[es])"
   ]
  },
  {
   "cell_type": "code",
   "execution_count": 45,
   "metadata": {},
   "outputs": [
    {
     "name": "stdout",
     "output_type": "stream",
     "text": [
      "Epoch 1/8\n",
      "331/331 [==============================] - 30s 86ms/step - loss: 0.9198 - accuracy: 0.5782 - val_loss: 0.7603 - val_accuracy: 0.6609\n",
      "Epoch 2/8\n",
      "331/331 [==============================] - 28s 85ms/step - loss: 0.6876 - accuracy: 0.6804 - val_loss: 0.6418 - val_accuracy: 0.6862\n",
      "Epoch 3/8\n",
      "331/331 [==============================] - 29s 87ms/step - loss: 0.5924 - accuracy: 0.7345 - val_loss: 0.5658 - val_accuracy: 0.7737\n",
      "Epoch 4/8\n",
      "331/331 [==============================] - 29s 87ms/step - loss: 0.5050 - accuracy: 0.8087 - val_loss: 0.4968 - val_accuracy: 0.8225\n",
      "Epoch 5/8\n",
      "331/331 [==============================] - 28s 85ms/step - loss: 0.4293 - accuracy: 0.8446 - val_loss: 0.4466 - val_accuracy: 0.8425\n",
      "Epoch 6/8\n",
      "331/331 [==============================] - 29s 87ms/step - loss: 0.3633 - accuracy: 0.8699 - val_loss: 0.4196 - val_accuracy: 0.8478\n",
      "Epoch 7/8\n",
      "331/331 [==============================] - 29s 87ms/step - loss: 0.3115 - accuracy: 0.8882 - val_loss: 0.3956 - val_accuracy: 0.8562\n",
      "Epoch 8/8\n",
      "331/331 [==============================] - 28s 85ms/step - loss: 0.2693 - accuracy: 0.9028 - val_loss: 0.3765 - val_accuracy: 0.8653\n",
      "124/124 [==============================] - 1s 8ms/step\n",
      "Iterasi ke-1\n",
      "              precision    recall  f1-score   support\n",
      "\n",
      "           0       0.93      0.92      0.93       958\n",
      "           1       0.77      0.81      0.79      1040\n",
      "           2       0.92      0.90      0.91      1965\n",
      "\n",
      "    accuracy                           0.88      3963\n",
      "   macro avg       0.88      0.88      0.88      3963\n",
      "weighted avg       0.89      0.88      0.88      3963\n",
      "\n",
      "======================================================\n",
      "Epoch 1/8\n",
      "331/331 [==============================] - 36s 100ms/step - loss: 0.9152 - accuracy: 0.5883 - val_loss: 0.7791 - val_accuracy: 0.6567\n",
      "Epoch 2/8\n",
      "331/331 [==============================] - 29s 88ms/step - loss: 0.6944 - accuracy: 0.6836 - val_loss: 0.6584 - val_accuracy: 0.6885\n",
      "Epoch 3/8\n",
      "331/331 [==============================] - 29s 88ms/step - loss: 0.5970 - accuracy: 0.7382 - val_loss: 0.5853 - val_accuracy: 0.7911\n",
      "Epoch 4/8\n",
      "331/331 [==============================] - 29s 87ms/step - loss: 0.5088 - accuracy: 0.8080 - val_loss: 0.5187 - val_accuracy: 0.8107\n",
      "Epoch 5/8\n",
      "331/331 [==============================] - 29s 87ms/step - loss: 0.4246 - accuracy: 0.8470 - val_loss: 0.4683 - val_accuracy: 0.8312\n",
      "Epoch 6/8\n",
      "331/331 [==============================] - 29s 88ms/step - loss: 0.3568 - accuracy: 0.8732 - val_loss: 0.4244 - val_accuracy: 0.8501\n",
      "Epoch 7/8\n",
      "331/331 [==============================] - 29s 88ms/step - loss: 0.3064 - accuracy: 0.8903 - val_loss: 0.4136 - val_accuracy: 0.8460\n",
      "Epoch 8/8\n",
      "331/331 [==============================] - 29s 88ms/step - loss: 0.2602 - accuracy: 0.9090 - val_loss: 0.3819 - val_accuracy: 0.8592\n",
      "124/124 [==============================] - 2s 10ms/step\n",
      "Iterasi ke-2\n",
      "              precision    recall  f1-score   support\n",
      "\n",
      "           0       0.97      0.91      0.94       958\n",
      "           1       0.77      0.91      0.83      1040\n",
      "           2       0.96      0.89      0.93      1965\n",
      "\n",
      "    accuracy                           0.90      3963\n",
      "   macro avg       0.90      0.90      0.90      3963\n",
      "weighted avg       0.91      0.90      0.90      3963\n",
      "\n",
      "======================================================\n",
      "Epoch 1/8\n",
      "331/331 [==============================] - 32s 92ms/step - loss: 0.9258 - accuracy: 0.5795 - val_loss: 0.7595 - val_accuracy: 0.6505\n",
      "Epoch 2/8\n",
      "331/331 [==============================] - 29s 87ms/step - loss: 0.6996 - accuracy: 0.6744 - val_loss: 0.6491 - val_accuracy: 0.6778\n",
      "Epoch 3/8\n",
      "331/331 [==============================] - 29s 89ms/step - loss: 0.6079 - accuracy: 0.7182 - val_loss: 0.5892 - val_accuracy: 0.7736\n",
      "Epoch 4/8\n",
      "331/331 [==============================] - 1243s 4s/step - loss: 0.5310 - accuracy: 0.7981 - val_loss: 0.5293 - val_accuracy: 0.8141\n",
      "Epoch 5/8\n",
      "331/331 [==============================] - 30s 90ms/step - loss: 0.4184 - accuracy: 0.8599 - val_loss: 0.4266 - val_accuracy: 0.8406\n",
      "Epoch 6/8\n",
      "331/331 [==============================] - 29s 89ms/step - loss: 0.3152 - accuracy: 0.8926 - val_loss: 0.3792 - val_accuracy: 0.8626\n",
      "Epoch 7/8\n",
      "331/331 [==============================] - 28s 86ms/step - loss: 0.2542 - accuracy: 0.9144 - val_loss: 0.3571 - val_accuracy: 0.8679\n",
      "Epoch 8/8\n",
      "331/331 [==============================] - 29s 89ms/step - loss: 0.2105 - accuracy: 0.9263 - val_loss: 0.3555 - val_accuracy: 0.8728\n",
      "124/124 [==============================] - 1s 9ms/step\n",
      "Iterasi ke-3\n",
      "              precision    recall  f1-score   support\n",
      "\n",
      "           0       0.98      0.94      0.96       958\n",
      "           1       0.86      0.95      0.90      1040\n",
      "           2       0.97      0.93      0.95      1965\n",
      "\n",
      "    accuracy                           0.94      3963\n",
      "   macro avg       0.94      0.94      0.94      3963\n",
      "weighted avg       0.94      0.94      0.94      3963\n",
      "\n",
      "======================================================\n",
      "Epoch 1/8\n",
      "331/331 [==============================] - 31s 88ms/step - loss: 0.9280 - accuracy: 0.5621 - val_loss: 0.7681 - val_accuracy: 0.6785\n",
      "Epoch 2/8\n",
      "331/331 [==============================] - 29s 88ms/step - loss: 0.6974 - accuracy: 0.6781 - val_loss: 0.6483 - val_accuracy: 0.7134\n",
      "Epoch 3/8\n",
      "331/331 [==============================] - 29s 88ms/step - loss: 0.6009 - accuracy: 0.7426 - val_loss: 0.5763 - val_accuracy: 0.7925\n",
      "Epoch 4/8\n",
      "331/331 [==============================] - 30s 90ms/step - loss: 0.5126 - accuracy: 0.8128 - val_loss: 0.5054 - val_accuracy: 0.8129\n",
      "Epoch 5/8\n",
      "331/331 [==============================] - 31s 94ms/step - loss: 0.4207 - accuracy: 0.8484 - val_loss: 0.4336 - val_accuracy: 0.8497\n",
      "Epoch 6/8\n",
      "331/331 [==============================] - 30s 92ms/step - loss: 0.3449 - accuracy: 0.8758 - val_loss: 0.3915 - val_accuracy: 0.8648\n",
      "Epoch 7/8\n",
      "331/331 [==============================] - 30s 91ms/step - loss: 0.2880 - accuracy: 0.8968 - val_loss: 0.3662 - val_accuracy: 0.8667\n",
      "Epoch 8/8\n",
      "331/331 [==============================] - 29s 89ms/step - loss: 0.2444 - accuracy: 0.9114 - val_loss: 0.3515 - val_accuracy: 0.8732\n",
      "124/124 [==============================] - 2s 9ms/step\n",
      "Iterasi ke-4\n",
      "              precision    recall  f1-score   support\n",
      "\n",
      "           0       0.97      0.96      0.97       958\n",
      "           1       0.85      0.91      0.88      1040\n",
      "           2       0.96      0.93      0.94      1965\n",
      "\n",
      "    accuracy                           0.93      3963\n",
      "   macro avg       0.93      0.93      0.93      3963\n",
      "weighted avg       0.93      0.93      0.93      3963\n",
      "\n",
      "======================================================\n",
      "Epoch 1/8\n",
      "331/331 [==============================] - 33s 93ms/step - loss: 0.9363 - accuracy: 0.5549 - val_loss: 0.7824 - val_accuracy: 0.6710\n",
      "Epoch 2/8\n",
      "331/331 [==============================] - 30s 91ms/step - loss: 0.7040 - accuracy: 0.6780 - val_loss: 0.6566 - val_accuracy: 0.6827\n",
      "Epoch 3/8\n",
      "331/331 [==============================] - 30s 90ms/step - loss: 0.6081 - accuracy: 0.7164 - val_loss: 0.5939 - val_accuracy: 0.7702\n",
      "Epoch 4/8\n",
      "331/331 [==============================] - 29s 88ms/step - loss: 0.5232 - accuracy: 0.8012 - val_loss: 0.5164 - val_accuracy: 0.8099\n",
      "Epoch 5/8\n",
      "331/331 [==============================] - 30s 91ms/step - loss: 0.4398 - accuracy: 0.8443 - val_loss: 0.4559 - val_accuracy: 0.8304\n",
      "Epoch 6/8\n",
      "331/331 [==============================] - 29s 89ms/step - loss: 0.3613 - accuracy: 0.8733 - val_loss: 0.4105 - val_accuracy: 0.8440\n",
      "Epoch 7/8\n",
      "331/331 [==============================] - 33s 99ms/step - loss: 0.2989 - accuracy: 0.8956 - val_loss: 0.3800 - val_accuracy: 0.8591\n",
      "Epoch 8/8\n",
      "331/331 [==============================] - 29s 89ms/step - loss: 0.2493 - accuracy: 0.9126 - val_loss: 0.3586 - val_accuracy: 0.8701\n",
      "124/124 [==============================] - 2s 12ms/step\n",
      "Iterasi ke-5\n",
      "              precision    recall  f1-score   support\n",
      "\n",
      "           0       0.94      0.97      0.96       958\n",
      "           1       0.87      0.89      0.88      1040\n",
      "           2       0.96      0.93      0.95      1965\n",
      "\n",
      "    accuracy                           0.93      3963\n",
      "   macro avg       0.92      0.93      0.93      3963\n",
      "weighted avg       0.93      0.93      0.93      3963\n",
      "\n",
      "======================================================\n",
      "\n",
      "\n",
      "\n",
      "\n",
      "Rata-rata Akurasi: 0.9176\n"
     ]
    }
   ],
   "source": [
    "def create_model():\n",
    "    model = Sequential()\n",
    "    model.add(Embedding(max_features_tokenize, embed_dim, input_length=X.shape[1]))\n",
    "    model.add(LSTM(units, dropout=0.5))\n",
    "    model.add(Dense(3, activation='softmax'))\n",
    "    adam = optimizers.Adam(learning_rate=0.0001)\n",
    "    model.compile(loss='categorical_crossentropy', optimizer=adam, metrics=['accuracy'])\n",
    "    return model\n",
    "\n",
    "def train_model(model, data_train, target_train, data_test, target_test):\n",
    "    #es = EarlyStopping(monitor='val_loss', mode='min', verbose=1, patience=2) #Diganti dan tidak usah dipakai pada model kedua\n",
    "    history = model.fit(data_train, target_train, epochs=8, batch_size=32, \n",
    "                        validation_data=(data_test, target_test), verbose=1)\n",
    "    return model, history\n",
    "\n",
    "# Inisialisasi KFold\n",
    "kf = KFold(n_splits=5, random_state=42, shuffle=True)\n",
    "accuracies = []\n",
    "\n",
    "\n",
    "embed_dim = 100\n",
    "units = 64\n",
    "\n",
    "# Iterasi melalui lipatan (folds) KFold\n",
    "for iteration, data in enumerate(kf.split(X), start=1):\n",
    "    data_train, target_train = X[data[0]], y[data[0]]\n",
    "    data_test, target_test = X[data[1]], y[data[1]]\n",
    "\n",
    "    model = create_model()\n",
    "    trained_model, history = train_model(model, data_train, target_train, data_test, target_test)\n",
    "\n",
    "    # Prediksi\n",
    "    predictions = trained_model.predict(x_test)\n",
    "    y_pred = predictions\n",
    "\n",
    "    # Menghitung akurasi\n",
    "    accuracy = accuracy_score(y_test.argmax(axis=1), y_pred.argmax(axis=1))\n",
    "\n",
    "    # Menampilkan hasil\n",
    "    print(f\"Iterasi ke-{iteration}\")\n",
    "    print(classification_report(y_test.argmax(axis=1), y_pred.argmax(axis=1)))\n",
    "    print(\"======================================================\")\n",
    "\n",
    "    accuracies.append(accuracy)\n",
    "\n",
    "# Menghitung rata-rata akurasi\n",
    "average_accuracy = np.mean(accuracies)\n",
    "\n",
    "print(\"\\n\\n\\n\")\n",
    "print(\"Rata-rata Akurasi:\", round(average_accuracy, 4))"
   ]
  },
  {
   "cell_type": "code",
   "execution_count": 46,
   "metadata": {},
   "outputs": [
    {
     "data": {
      "image/png": "[encoded data removed]",
      "text/plain": [
       "<Figure size 1200x600 with 2 Axes>"
      ]
     },
     "metadata": {},
     "output_type": "display_data"
    }
   ],
   "source": [
    "def plot_history(history):\n",
    "    acc = history.history['accuracy']\n",
    "    val_acc = history.history['val_accuracy']\n",
    "    loss = history.history['loss']\n",
    "    val_loss = history.history['val_loss']\n",
    "    epochs = range(1, len(acc) + 1)\n",
    "\n",
    "    plt.figure(figsize=(12, 6))\n",
    "\n",
    "    # Plot Akurasi\n",
    "    plt.subplot(1, 2, 1)\n",
    "    plt.plot(epochs, acc, 'g', label='Training Acc')\n",
    "    plt.plot(epochs, val_acc, 'y', label='Validation Acc')\n",
    "    plt.title('Training and Validation Accuracy')\n",
    "    plt.xlabel('Epochs')\n",
    "    plt.ylabel('Accuracy')\n",
    "    plt.legend()\n",
    "    sns.despine()\n",
    "\n",
    "    # Plot Loss\n",
    "    plt.subplot(1, 2, 2)\n",
    "    plt.plot(epochs, loss, 'g', label='Training Loss')\n",
    "    plt.plot(epochs, val_loss, 'y', label='Validation Loss')\n",
    "    plt.title('Training and Validation Loss')\n",
    "    plt.xlabel('Epochs')\n",
    "    plt.ylabel('Loss')\n",
    "    plt.legend()\n",
    "    sns.despine()\n",
    "\n",
    "    plt.tight_layout()\n",
    "    plt.show()\n",
    "\n",
    "# Memanggil fungsi plot_history untuk memvisualisasikan hasil\n",
    "plot_history(history)"
   ]
  },
  {
   "cell_type": "code",
   "execution_count": 47,
   "metadata": {},
   "outputs": [
    {
     "name": "stderr",
     "output_type": "stream",
     "text": [
      "C:\\Users\\kenta\\AppData\\Roaming\\Python\\Python311\\site-packages\\keras\\src\\engine\\training.py:3079: UserWarning: You are saving your model as an HDF5 file via `model.save()`. This file format is considered legacy. We recommend using instead the native Keras format, e.g. `model.save('my_model.keras')`.\n",
      "  saving_api.save_model(\n"
     ]
    },
    {
     "name": "stdout",
     "output_type": "stream",
     "text": [
      "Model has created\n"
     ]
    }
   ],
   "source": [
    "#Save model\n",
    "trained_model.save('main_model_new.h5')\n",
    "print('Model has created')\n"
   ]
  },
  {
   "cell_type": "code",
   "execution_count": 99,
   "metadata": {},
   "outputs": [
    {
     "ename": "OSError",
     "evalue": "No file or directory found at main_model_new.h5",
     "output_type": "error",
     "traceback": [
      "\u001b[1;31m---------------------------------------------------------------------------\u001b[0m",
      "\u001b[1;31mOSError\u001b[0m                                   Traceback (most recent call last)",
      "\u001b[1;32mc:\\Users\\kenta\\OneDrive\\Desktop\\Challange Binar\\LSTM_Code_test.ipynb Cell 16\u001b[0m line \u001b[0;36m2\n\u001b[0;32m     <a href='vscode-notebook-cell:/c%3A/Users/kenta/OneDrive/Desktop/Challange%20Binar/LSTM_Code_test.ipynb#X16sZmlsZQ%3D%3D?line=22'>23</a>\u001b[0m predicted \u001b[39m=\u001b[39m data_tokenizer\u001b[39m.\u001b[39mtexts_to_sequences(text)\n\u001b[0;32m     <a href='vscode-notebook-cell:/c%3A/Users/kenta/OneDrive/Desktop/Challange%20Binar/LSTM_Code_test.ipynb#X16sZmlsZQ%3D%3D?line=23'>24</a>\u001b[0m guess \u001b[39m=\u001b[39m pad_sequences(predicted, maxlen\u001b[39m=\u001b[39mX\u001b[39m.\u001b[39mshape[\u001b[39m1\u001b[39m])\n\u001b[1;32m---> <a href='vscode-notebook-cell:/c%3A/Users/kenta/OneDrive/Desktop/Challange%20Binar/LSTM_Code_test.ipynb#X16sZmlsZQ%3D%3D?line=25'>26</a>\u001b[0m model1 \u001b[39m=\u001b[39m  load_model(\u001b[39m'\u001b[39;49m\u001b[39mmain_model_new.h5\u001b[39;49m\u001b[39m'\u001b[39;49m)\n\u001b[0;32m     <a href='vscode-notebook-cell:/c%3A/Users/kenta/OneDrive/Desktop/Challange%20Binar/LSTM_Code_test.ipynb#X16sZmlsZQ%3D%3D?line=26'>27</a>\u001b[0m prediction \u001b[39m=\u001b[39m model1\u001b[39m.\u001b[39mpredict(guess)\n\u001b[0;32m     <a href='vscode-notebook-cell:/c%3A/Users/kenta/OneDrive/Desktop/Challange%20Binar/LSTM_Code_test.ipynb#X16sZmlsZQ%3D%3D?line=27'>28</a>\u001b[0m polarity \u001b[39m=\u001b[39m np\u001b[39m.\u001b[39margmax(prediction[\u001b[39m0\u001b[39m])\n",
      "File \u001b[1;32m~\\AppData\\Roaming\\Python\\Python311\\site-packages\\keras\\src\\saving\\saving_api.py:262\u001b[0m, in \u001b[0;36mload_model\u001b[1;34m(filepath, custom_objects, compile, safe_mode, **kwargs)\u001b[0m\n\u001b[0;32m    254\u001b[0m     \u001b[39mreturn\u001b[39;00m saving_lib\u001b[39m.\u001b[39mload_model(\n\u001b[0;32m    255\u001b[0m         filepath,\n\u001b[0;32m    256\u001b[0m         custom_objects\u001b[39m=\u001b[39mcustom_objects,\n\u001b[0;32m    257\u001b[0m         \u001b[39mcompile\u001b[39m\u001b[39m=\u001b[39m\u001b[39mcompile\u001b[39m,\n\u001b[0;32m    258\u001b[0m         safe_mode\u001b[39m=\u001b[39msafe_mode,\n\u001b[0;32m    259\u001b[0m     )\n\u001b[0;32m    261\u001b[0m \u001b[39m# Legacy case.\u001b[39;00m\n\u001b[1;32m--> 262\u001b[0m \u001b[39mreturn\u001b[39;00m legacy_sm_saving_lib\u001b[39m.\u001b[39;49mload_model(\n\u001b[0;32m    263\u001b[0m     filepath, custom_objects\u001b[39m=\u001b[39;49mcustom_objects, \u001b[39mcompile\u001b[39;49m\u001b[39m=\u001b[39;49m\u001b[39mcompile\u001b[39;49m, \u001b[39m*\u001b[39;49m\u001b[39m*\u001b[39;49mkwargs\n\u001b[0;32m    264\u001b[0m )\n",
      "File \u001b[1;32m~\\AppData\\Roaming\\Python\\Python311\\site-packages\\keras\\src\\utils\\traceback_utils.py:70\u001b[0m, in \u001b[0;36mfilter_traceback.<locals>.error_handler\u001b[1;34m(*args, **kwargs)\u001b[0m\n\u001b[0;32m     67\u001b[0m     filtered_tb \u001b[39m=\u001b[39m _process_traceback_frames(e\u001b[39m.\u001b[39m__traceback__)\n\u001b[0;32m     68\u001b[0m     \u001b[39m# To get the full stack trace, call:\u001b[39;00m\n\u001b[0;32m     69\u001b[0m     \u001b[39m# `tf.debugging.disable_traceback_filtering()`\u001b[39;00m\n\u001b[1;32m---> 70\u001b[0m     \u001b[39mraise\u001b[39;00m e\u001b[39m.\u001b[39mwith_traceback(filtered_tb) \u001b[39mfrom\u001b[39;00m \u001b[39mNone\u001b[39;00m\n\u001b[0;32m     71\u001b[0m \u001b[39mfinally\u001b[39;00m:\n\u001b[0;32m     72\u001b[0m     \u001b[39mdel\u001b[39;00m filtered_tb\n",
      "File \u001b[1;32m~\\AppData\\Roaming\\Python\\Python311\\site-packages\\keras\\src\\saving\\legacy\\save.py:234\u001b[0m, in \u001b[0;36mload_model\u001b[1;34m(filepath, custom_objects, compile, options)\u001b[0m\n\u001b[0;32m    232\u001b[0m \u001b[39mif\u001b[39;00m \u001b[39misinstance\u001b[39m(filepath_str, \u001b[39mstr\u001b[39m):\n\u001b[0;32m    233\u001b[0m     \u001b[39mif\u001b[39;00m \u001b[39mnot\u001b[39;00m tf\u001b[39m.\u001b[39mio\u001b[39m.\u001b[39mgfile\u001b[39m.\u001b[39mexists(filepath_str):\n\u001b[1;32m--> 234\u001b[0m         \u001b[39mraise\u001b[39;00m \u001b[39mIOError\u001b[39;00m(\n\u001b[0;32m    235\u001b[0m             \u001b[39mf\u001b[39m\u001b[39m\"\u001b[39m\u001b[39mNo file or directory found at \u001b[39m\u001b[39m{\u001b[39;00mfilepath_str\u001b[39m}\u001b[39;00m\u001b[39m\"\u001b[39m\n\u001b[0;32m    236\u001b[0m         )\n\u001b[0;32m    238\u001b[0m     \u001b[39mif\u001b[39;00m tf\u001b[39m.\u001b[39mio\u001b[39m.\u001b[39mgfile\u001b[39m.\u001b[39misdir(filepath_str):\n\u001b[0;32m    239\u001b[0m         \u001b[39mreturn\u001b[39;00m saved_model_load\u001b[39m.\u001b[39mload(\n\u001b[0;32m    240\u001b[0m             filepath_str, \u001b[39mcompile\u001b[39m, options\n\u001b[0;32m    241\u001b[0m         )\n",
      "\u001b[1;31mOSError\u001b[0m: No file or directory found at main_model_new.h5"
     ]
    }
   ],
   "source": [
    "input_text = \"\"\"Makanannya enak\"\"\"\n",
    "def cleansing(text):\n",
    "    # Mengubah teks menjadi huruf kecil\n",
    "    text = text.lower()\n",
    "    # Menghapus URL dan tautan\n",
    "    text = re.sub(r'((www\\.[^\\s]+)|(https?://[^\\s]+)|(http?://[^\\s]+))', ' ', text)\n",
    "    text = re.sub(r'pic.twitter.com.[\\w]+', ' ', text)\n",
    "    # Menghapus karakter yang tidak diinginkan, termasuk angka\n",
    "    text = re.sub(r'[^a-z\\s]', ' ', text)\n",
    "    # Menghapus kata 'user'\n",
    "    text = text.replace('user', '')\n",
    "    # Menghapus spasi berlebih\n",
    "    text = re.sub(' +', ' ', text)\n",
    "    # Menghapus karakter \\n (newline)\n",
    "    text = text.replace('\\n', ' ')\n",
    "    # menghapus kata 'url' \n",
    "    text = re.sub('url',' ', text)\n",
    "    return text\n",
    "\n",
    "sentiment = ['negative', 'neutral','positive']\n",
    "\n",
    "text = [cleansing(input_text)]\n",
    "predicted = data_tokenizer.texts_to_sequences(text)\n",
    "guess = pad_sequences(predicted, maxlen=X.shape[1])\n",
    "\n",
    "model1 =  load_model('main_model_new.h5')\n",
    "prediction = model1.predict(guess)\n",
    "polarity = np.argmax(prediction[0])\n",
    "hasil = sentiment[polarity]\n",
    "print(\"Tokenized Sequence: %s\" % predicted)\n",
    "\n",
    "\n",
    "print(\"Text: %s\" % text[0])\n",
    "print(\"Sentiment: %s\" % sentiment[polarity])\n",
    "print(\"Polarity: %s\" % polarity)\n"
   ]
  },
  {
   "cell_type": "code",
   "execution_count": 57,
   "metadata": {},
   "outputs": [
    {
     "name": "stdout",
     "output_type": "stream",
     "text": [
      "1/1 [==============================] - 0s 333ms/step\n",
      "Text: warung dimiliki pengusaha pabrik puluhan terkenal membuat putih bandung berkualitas dipadu keahlian memasak dipadu kretivitas warung menyajikan menu utama berbahan ditambah menu ayam selera indonesia harga terjangkau jangan melewati bletoka tidak kalah asli tegal\n",
      "Sentiment: positive\n"
     ]
    }
   ],
   "source": [
    "input_text = \"\"\"warung dimiliki pengusaha pabrik puluhan terkenal membuat putih bandung berkualitas dipadu keahlian memasak dipadu kretivitas warung menyajikan menu utama berbahan ditambah menu ayam selera indonesia harga terjangkau jangan melewati bletoka tidak kalah asli tegal\"\"\"\n",
    "def cleansing(text):\n",
    "    text = text.lower()\n",
    "    text = re.sub(r'((www\\.[^\\s]+)|(https?://[^\\s]+)|(http?://[^\\s]+))', ' ', text)\n",
    "    text = re.sub(r'pic.twitter.com.[\\w]+', ' ', text)\n",
    "    text = re.sub(r'[^a-z\\s]', ' ', text)\n",
    "    text = text.replace('user', '')\n",
    "    text = re.sub(' +', ' ', text)\n",
    "    text = text.replace('\\n', ' ')\n",
    "    return text\n",
    "\n",
    "sentiment = ['negative', 'neutral', 'positive']\n",
    "\n",
    "text = [cleansing(input_text)]\n",
    "predicted = data_tokenizer.texts_to_sequences(text)\n",
    "guess = pad_sequences(predicted, maxlen=X.shape[1])\n",
    "\n",
    "model1 =  load_model('main_model_new.h5')\n",
    "prediction = model1.predict(guess)\n",
    "polarity = np.argmax(prediction[0])\n",
    "hasil = sentiment[polarity]\n",
    "\n",
    "print(\"Text: %s\" % text[0])\n",
    "print(\"Sentiment: %s\" % sentiment[polarity])"
   ]
  },
  {
   "cell_type": "code",
   "execution_count": 98,
   "metadata": {},
   "outputs": [
    {
     "name": "stdout",
     "output_type": "stream",
     "text": [
      "1/1 [==============================] - 0s 323ms/step\n",
      "Tokenized Sequence: [[4354]]\n",
      "Text: dia baik sekali ya dan rajin\n",
      "Sentiment: negative\n",
      "Polarity: 0\n"
     ]
    }
   ],
   "source": [
    "input_text = \"\"\"dia baik sekali ya dan rajin\"\"\"\n",
    "def cleansing(text):\n",
    "    # Mengubah teks menjadi huruf kecil\n",
    "    text = text.lower()\n",
    "    # Menghapus URL dan tautan\n",
    "    text = re.sub(r'((www\\.[^\\s]+)|(https?://[^\\s]+)|(http?://[^\\s]+))', ' ', text)\n",
    "    text = re.sub(r'pic.twitter.com.[\\w]+', ' ', text)\n",
    "    # Menghapus karakter yang tidak diinginkan, termasuk angka\n",
    "    text = re.sub(r'[^a-z\\s]', ' ', text)\n",
    "    # Menghapus kata 'user'\n",
    "    text = text.replace('user', '')\n",
    "    # Menghapus spasi berlebih\n",
    "    text = re.sub(' +', ' ', text)\n",
    "    # Menghapus karakter \\n (newline)\n",
    "    text = text.replace('\\n', ' ')\n",
    "    # menghapus kata 'url' \n",
    "    text = re.sub('url',' ', text)\n",
    "    return text\n",
    "\n",
    "sentiment = ['negative', 'neutral','positive']\n",
    "\n",
    "text = [cleansing(input_text)]\n",
    "predicted = data_tokenizer.texts_to_sequences(text)\n",
    "guess = pad_sequences(predicted, maxlen=X.shape[1])\n",
    "\n",
    "model1 =  load_model('main_model_new.h5')\n",
    "prediction = model1.predict(guess)\n",
    "polarity = np.argmax(prediction[0])\n",
    "hasil = sentiment[polarity]\n",
    "print(\"Tokenized Sequence: %s\" % predicted)\n",
    "\n",
    "\n",
    "print(\"Text: %s\" % text[0])\n",
    "print(\"Sentiment: %s\" % sentiment[polarity])\n",
    "print(\"Polarity: %s\" % polarity)\n"
   ]
  }
 ],
 "metadata": {
  "kernelspec": {
   "display_name": "Python 3",
   "language": "python",
   "name": "python3"
  },
  "language_info": {
   "codemirror_mode": {
    "name": "ipython",
    "version": 3
   },
   "file_extension": ".py",
   "mimetype": "text/x-python",
   "name": "python",
   "nbconvert_exporter": "python",
   "pygments_lexer": "ipython3",
   "version": "3.11.4"
  }
 },
 "nbformat": 4,
 "nbformat_minor": 2
}
