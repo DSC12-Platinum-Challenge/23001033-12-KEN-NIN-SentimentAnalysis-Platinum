{
 "cells": [
  {
   "cell_type": "code",
   "execution_count": 1,
   "metadata": {},
   "outputs": [],
   "source": [
    "import numpy as np \n",
    "import pandas as pd\n",
    "import re\n",
    "import sqlite3\n",
    "import pickle # save model\n",
    "from sklearn.model_selection import train_test_split # used to split the data into training and testing sets\n",
    "from sklearn.neural_network import MLPClassifier # used as the machine learning algorithm\n",
    "from sklearn.model_selection import GridSearchCV # used to tune hyperparameters\n",
    "from sklearn.pipeline import Pipeline # used to build the machine learning pipeline\n",
    "from sklearn.compose import ColumnTransformer # part of pipeline used to handle columns\n",
    "from sklearn.metrics import f1_score, precision_score, recall_score, accuracy_score, classification_report # used to evaluate the performance of the model.\n",
    "from sklearn.metrics import confusion_matrix\n",
    "from sklearn.feature_extraction.text import CountVectorizer #convert input_text data into numerical data.\n",
    "from sklearn.feature_extraction.text import TfidfVectorizer"
   ]
  },
  {
   "cell_type": "markdown",
   "metadata": {},
   "source": [
    "The sqlite3.connect function is used to connect to the database. The pd.read_sql_query function is used to execute a SQL query and read the results into a pandas DataFrame. The query variable contains the SQL query to be executed, and the conn variable is the connection object returned by sqlite3.connect. The data.head() function is used to display the first few rows of the DataFrame."
   ]
  },
  {
   "cell_type": "code",
   "execution_count": 2,
   "metadata": {},
   "outputs": [
    {
     "data": {
      "text/html": [
       "<div>\n",
       "<style scoped>\n",
       "    .dataframe tbody tr th:only-of-type {\n",
       "        vertical-align: middle;\n",
       "    }\n",
       "\n",
       "    .dataframe tbody tr th {\n",
       "        vertical-align: top;\n",
       "    }\n",
       "\n",
       "    .dataframe thead th {\n",
       "        text-align: right;\n",
       "    }\n",
       "</style>\n",
       "<table border=\"1\" class=\"dataframe\">\n",
       "  <thead>\n",
       "    <tr style=\"text-align: right;\">\n",
       "      <th></th>\n",
       "      <th>Tweet</th>\n",
       "      <th>Label</th>\n",
       "    </tr>\n",
       "  </thead>\n",
       "  <tbody>\n",
       "    <tr>\n",
       "      <th>0</th>\n",
       "      <td>warung dimiliki pengusaha pabrik tahu sudah pu...</td>\n",
       "      <td>positive</td>\n",
       "    </tr>\n",
       "    <tr>\n",
       "      <th>1</th>\n",
       "      <td>mohon ulama lurus mmbri hujjah partai harus di...</td>\n",
       "      <td>neutral</td>\n",
       "    </tr>\n",
       "    <tr>\n",
       "      <th>2</th>\n",
       "      <td>lokasi strategis jalan sumatra bandung tempat ...</td>\n",
       "      <td>positive</td>\n",
       "    </tr>\n",
       "    <tr>\n",
       "      <th>3</th>\n",
       "      <td>betapa bahagia saat unboxing paket barang bagu...</td>\n",
       "      <td>positive</td>\n",
       "    </tr>\n",
       "    <tr>\n",
       "      <th>4</th>\n",
       "      <td>aduh jadi mahasiswa jangan sombong kasih kartu...</td>\n",
       "      <td>negative</td>\n",
       "    </tr>\n",
       "  </tbody>\n",
       "</table>\n",
       "</div>"
      ],
      "text/plain": [
       "                                               Tweet     Label\n",
       "0  warung dimiliki pengusaha pabrik tahu sudah pu...  positive\n",
       "1  mohon ulama lurus mmbri hujjah partai harus di...   neutral\n",
       "2  lokasi strategis jalan sumatra bandung tempat ...  positive\n",
       "3  betapa bahagia saat unboxing paket barang bagu...  positive\n",
       "4  aduh jadi mahasiswa jangan sombong kasih kartu...  negative"
      ]
     },
     "execution_count": 2,
     "metadata": {},
     "output_type": "execute_result"
    }
   ],
   "source": [
    "conn = sqlite3.connect(r'..\\database.db', check_same_thread=False)\n",
    "query = 'SELECT * FROM new_data'\n",
    "data = pd.read_sql_query (query, conn)\n",
    "data.head()"
   ]
  },
  {
   "cell_type": "markdown",
   "metadata": {},
   "source": [
    "The data.Tweet.tolist() function is used to convert the Tweet column of the data DataFrame to a list. This will create a list of all the values in the Tweet column. "
   ]
  },
  {
   "cell_type": "code",
   "execution_count": 3,
   "metadata": {},
   "outputs": [],
   "source": [
    "data_vektor = data.Tweet.tolist()"
   ]
  },
  {
   "cell_type": "markdown",
   "metadata": {},
   "source": [
    "EXTRACTION FEATURE\n",
    "<p>The fit method is used to learn a vocabulary dictionary of all tokens in the raw documents. The transform method is used to transform the documents into a document-term matrix. The resulting matrix is a sparse matrix where each row represents a document and each column represents a token in the vocabulary. The value in each cell represents the frequency of the token in the corresponding document. The resulting matrix can be used as input to machine learning algorithms."
   ]
  },
  {
   "cell_type": "code",
   "execution_count": 4,
   "metadata": {},
   "outputs": [],
   "source": [
    "count_bow = CountVectorizer()\n",
    "    \n",
    "# melakukan fitting dan transformasi pada dokumen\n",
    "count_bow.fit(data_vektor)\n",
    "\n",
    "# melihat hasil representasi bag of words\n",
    "BoW = count_bow.fit_transform(data_vektor)"
   ]
  },
  {
   "cell_type": "code",
   "execution_count": 5,
   "metadata": {},
   "outputs": [],
   "source": [
    "count_tfidf = TfidfVectorizer()\n",
    "    \n",
    "# melakukan fitting dan transformasi pada dokumen\n",
    "count_tfidf.fit(data_vektor)\n",
    "\n",
    "# melihat hasil representasi bag of words\n",
    "TFIDF = count_tfidf.fit_transform(data_vektor)"
   ]
  },
  {
   "cell_type": "code",
   "execution_count": 6,
   "metadata": {},
   "outputs": [],
   "source": [
    "y = data.Label"
   ]
  },
  {
   "cell_type": "markdown",
   "metadata": {},
   "source": [
    "Save a CountVectorizer object to a file using the pickle.dump function. The pickle.dump function is used to serialize the count_vect object and write it to a file named feature_New.pickle in binary mode. The open function is used to open the file in binary write mode (wb)."
   ]
  },
  {
   "cell_type": "code",
   "execution_count": 7,
   "metadata": {},
   "outputs": [],
   "source": [
    "pickle.dump(count_bow, open(r\"..\\NN_Files\\feature_BoW_stopword.pickle\", \"wb\"))\n",
    "pickle.dump(count_tfidf, open(r\"..\\NN_Files\\feature_TFIDF_stopword.pickle\", \"wb\"))"
   ]
  },
  {
   "cell_type": "markdown",
   "metadata": {},
   "source": [
    "TRAIN - TEST SPLIT DATA\n",
    "<p>Split data into training and testing sets using the train_test_split function from the sklearn.model_selection library. The train_test_split function is used to split the data into training and testing sets. The X and y variables contain the features and target variable, respectively. The test_size parameter is set to 0.20, which means that 20% of the data will be used for testing and 80% of the data will be used for training. The random_state parameter is set to 40, which means that the random number generator used by train_test_split will produce the same results every time the code is run. The resulting variables X_train, X_test, y_train, and y_test contain the training and testing sets of the features and target variable, respectively."
   ]
  },
  {
   "cell_type": "code",
   "execution_count": 8,
   "metadata": {},
   "outputs": [
    {
     "data": {
      "text/plain": [
       "<8746x15528 sparse matrix of type '<class 'numpy.int64'>'\n",
       "\twith 157201 stored elements in Compressed Sparse Row format>"
      ]
     },
     "execution_count": 8,
     "metadata": {},
     "output_type": "execute_result"
    }
   ],
   "source": [
    "X_train, X_test, y_train, y_test = train_test_split(BoW, y, test_size = 0.20, random_state = 40, shuffle=True)\n",
    "X_train_2, X_test_2, y_train_2, y_test_2 = train_test_split(TFIDF, y, test_size = 0.20, random_state = 40, shuffle=True)"
   ]
  },
  {
   "cell_type": "markdown",
   "metadata": {},
   "source": [
    "`MLPClassifier` is a neural network algorithm that can be used for classification tasks. It has several parameters that can be tuned to improve its performance. Here is an explanation of the parameters in your `parameter_grid`:\n",
    "\n",
    "- `hidden_layer_sizes`: This parameter specifies the number of neurons in each hidden layer of the neural network. It is a list of integers, where each integer represents the number of neurons in a hidden layer. For example, `[1, 10]` means that there are two hidden layers, one with 1 neuron and one with 10 neurons.\n",
    "\n",
    "- `activation`: This parameter specifies the activation function used in the neural network. The activation function is used to introduce non-linearity into the model. The possible values for this parameter are `'relu'`, `'tanh'`, and `'logistic'`.\n",
    "\n",
    "- `learning_rate_init`: This parameter specifies the initial learning rate used by the neural network. The learning rate determines how quickly the model learns from the data.\n",
    "\n",
    "- `alpha`: This parameter specifies the L2 penalty (regularization term) parameter. It is used to prevent overfitting of the model.\n",
    "\n",
    "- `early_stopping`: This parameter specifies whether to use early stopping to terminate training when validation score is not improving. If set to `True`, training will stop when validation score is not improving by at least `tol` for `n_iter_no_change` consecutive iterations.\n",
    "\n",
    "\n",
    "parameter_grid digunakan untuk mencari kombinasi hyperparameter terbaik untuk MLPClassifier. Jika kita tidak menggunakan parameter_grid, maka kita harus menentukan hyperparameter secara manual dan mencoba beberapa kombinasi hyperparameter untuk menemukan kombinasi terbaik yang dapat meningkatkan performa model. Dalam hal ini, GridSearchCV dapat mempercepat proses pencarian hyperparameter terbaik dan menghasilkan model yang lebih baik."
   ]
  },
  {
   "cell_type": "code",
   "execution_count": 9,
   "metadata": {},
   "outputs": [],
   "source": [
    "model = Pipeline([ ('algoritma', MLPClassifier()) ])\n",
    "parameter_grid = {\n",
    "    'algoritma__hidden_layer_sizes': [{i} for i in [1, 10]],\n",
    "    'algoritma__activation': ['relu','tanh','logistic'],\n",
    "    'algoritma__learning_rate_init' : [0.01],\n",
    "    'algoritma__alpha': [0.1,0.01,1],\n",
    "    'algoritma__early_stopping': [True]\n",
    "} \n",
    "model_NN_BoW = GridSearchCV(model, parameter_grid)\n",
    "model_NN_TFIDF = GridSearchCV(model, parameter_grid)"
   ]
  },
  {
   "cell_type": "markdown",
   "metadata": {},
   "source": [
    "Trying to fit a machine learning model using the fit method of the GridSearchCV object. The X_train and y_train variables contain the features and target variable, respectively."
   ]
  },
  {
   "cell_type": "code",
   "execution_count": 10,
   "metadata": {},
   "outputs": [
    {
     "name": "stdout",
     "output_type": "stream",
     "text": [
      "CPU times: total: 22.2 s\n",
      "Wall time: 3min 31s\n"
     ]
    },
    {
     "data": {
      "text/html": [
       "<style>#sk-container-id-1 {color: black;}#sk-container-id-1 pre{padding: 0;}#sk-container-id-1 div.sk-toggleable {background-color: white;}#sk-container-id-1 label.sk-toggleable__label {cursor: pointer;display: block;width: 100%;margin-bottom: 0;padding: 0.3em;box-sizing: border-box;text-align: center;}#sk-container-id-1 label.sk-toggleable__label-arrow:before {content: \"▸\";float: left;margin-right: 0.25em;color: #696969;}#sk-container-id-1 label.sk-toggleable__label-arrow:hover:before {color: black;}#sk-container-id-1 div.sk-estimator:hover label.sk-toggleable__label-arrow:before {color: black;}#sk-container-id-1 div.sk-toggleable__content {max-height: 0;max-width: 0;overflow: hidden;text-align: left;background-color: #f0f8ff;}#sk-container-id-1 div.sk-toggleable__content pre {margin: 0.2em;color: black;border-radius: 0.25em;background-color: #f0f8ff;}#sk-container-id-1 input.sk-toggleable__control:checked~div.sk-toggleable__content {max-height: 200px;max-width: 100%;overflow: auto;}#sk-container-id-1 input.sk-toggleable__control:checked~label.sk-toggleable__label-arrow:before {content: \"▾\";}#sk-container-id-1 div.sk-estimator input.sk-toggleable__control:checked~label.sk-toggleable__label {background-color: #d4ebff;}#sk-container-id-1 div.sk-label input.sk-toggleable__control:checked~label.sk-toggleable__label {background-color: #d4ebff;}#sk-container-id-1 input.sk-hidden--visually {border: 0;clip: rect(1px 1px 1px 1px);clip: rect(1px, 1px, 1px, 1px);height: 1px;margin: -1px;overflow: hidden;padding: 0;position: absolute;width: 1px;}#sk-container-id-1 div.sk-estimator {font-family: monospace;background-color: #f0f8ff;border: 1px dotted black;border-radius: 0.25em;box-sizing: border-box;margin-bottom: 0.5em;}#sk-container-id-1 div.sk-estimator:hover {background-color: #d4ebff;}#sk-container-id-1 div.sk-parallel-item::after {content: \"\";width: 100%;border-bottom: 1px solid gray;flex-grow: 1;}#sk-container-id-1 div.sk-label:hover label.sk-toggleable__label {background-color: #d4ebff;}#sk-container-id-1 div.sk-serial::before {content: \"\";position: absolute;border-left: 1px solid gray;box-sizing: border-box;top: 0;bottom: 0;left: 50%;z-index: 0;}#sk-container-id-1 div.sk-serial {display: flex;flex-direction: column;align-items: center;background-color: white;padding-right: 0.2em;padding-left: 0.2em;position: relative;}#sk-container-id-1 div.sk-item {position: relative;z-index: 1;}#sk-container-id-1 div.sk-parallel {display: flex;align-items: stretch;justify-content: center;background-color: white;position: relative;}#sk-container-id-1 div.sk-item::before, #sk-container-id-1 div.sk-parallel-item::before {content: \"\";position: absolute;border-left: 1px solid gray;box-sizing: border-box;top: 0;bottom: 0;left: 50%;z-index: -1;}#sk-container-id-1 div.sk-parallel-item {display: flex;flex-direction: column;z-index: 1;position: relative;background-color: white;}#sk-container-id-1 div.sk-parallel-item:first-child::after {align-self: flex-end;width: 50%;}#sk-container-id-1 div.sk-parallel-item:last-child::after {align-self: flex-start;width: 50%;}#sk-container-id-1 div.sk-parallel-item:only-child::after {width: 0;}#sk-container-id-1 div.sk-dashed-wrapped {border: 1px dashed gray;margin: 0 0.4em 0.5em 0.4em;box-sizing: border-box;padding-bottom: 0.4em;background-color: white;}#sk-container-id-1 div.sk-label label {font-family: monospace;font-weight: bold;display: inline-block;line-height: 1.2em;}#sk-container-id-1 div.sk-label-container {text-align: center;}#sk-container-id-1 div.sk-container {/* jupyter's `normalize.less` sets `[hidden] { display: none; }` but bootstrap.min.css set `[hidden] { display: none !important; }` so we also need the `!important` here to be able to override the default hidden behavior on the sphinx rendered scikit-learn.org. See: https://github.com/scikit-learn/scikit-learn/issues/21755 */display: inline-block !important;position: relative;}#sk-container-id-1 div.sk-text-repr-fallback {display: none;}</style><div id=\"sk-container-id-1\" class=\"sk-top-container\"><div class=\"sk-text-repr-fallback\"><pre>GridSearchCV(estimator=Pipeline(steps=[(&#x27;algoritma&#x27;, MLPClassifier())]),\n",
       "             param_grid={&#x27;algoritma__activation&#x27;: [&#x27;relu&#x27;, &#x27;tanh&#x27;, &#x27;logistic&#x27;],\n",
       "                         &#x27;algoritma__alpha&#x27;: [0.1, 0.01, 1],\n",
       "                         &#x27;algoritma__early_stopping&#x27;: [True],\n",
       "                         &#x27;algoritma__hidden_layer_sizes&#x27;: [{1}, {10}],\n",
       "                         &#x27;algoritma__learning_rate_init&#x27;: [0.01]})</pre><b>In a Jupyter environment, please rerun this cell to show the HTML representation or trust the notebook. <br />On GitHub, the HTML representation is unable to render, please try loading this page with nbviewer.org.</b></div><div class=\"sk-container\" hidden><div class=\"sk-item sk-dashed-wrapped\"><div class=\"sk-label-container\"><div class=\"sk-label sk-toggleable\"><input class=\"sk-toggleable__control sk-hidden--visually\" id=\"sk-estimator-id-1\" type=\"checkbox\" ><label for=\"sk-estimator-id-1\" class=\"sk-toggleable__label sk-toggleable__label-arrow\">GridSearchCV</label><div class=\"sk-toggleable__content\"><pre>GridSearchCV(estimator=Pipeline(steps=[(&#x27;algoritma&#x27;, MLPClassifier())]),\n",
       "             param_grid={&#x27;algoritma__activation&#x27;: [&#x27;relu&#x27;, &#x27;tanh&#x27;, &#x27;logistic&#x27;],\n",
       "                         &#x27;algoritma__alpha&#x27;: [0.1, 0.01, 1],\n",
       "                         &#x27;algoritma__early_stopping&#x27;: [True],\n",
       "                         &#x27;algoritma__hidden_layer_sizes&#x27;: [{1}, {10}],\n",
       "                         &#x27;algoritma__learning_rate_init&#x27;: [0.01]})</pre></div></div></div><div class=\"sk-parallel\"><div class=\"sk-parallel-item\"><div class=\"sk-item\"><div class=\"sk-label-container\"><div class=\"sk-label sk-toggleable\"><input class=\"sk-toggleable__control sk-hidden--visually\" id=\"sk-estimator-id-2\" type=\"checkbox\" ><label for=\"sk-estimator-id-2\" class=\"sk-toggleable__label sk-toggleable__label-arrow\">estimator: Pipeline</label><div class=\"sk-toggleable__content\"><pre>Pipeline(steps=[(&#x27;algoritma&#x27;, MLPClassifier())])</pre></div></div></div><div class=\"sk-serial\"><div class=\"sk-item\"><div class=\"sk-serial\"><div class=\"sk-item\"><div class=\"sk-estimator sk-toggleable\"><input class=\"sk-toggleable__control sk-hidden--visually\" id=\"sk-estimator-id-3\" type=\"checkbox\" ><label for=\"sk-estimator-id-3\" class=\"sk-toggleable__label sk-toggleable__label-arrow\">MLPClassifier</label><div class=\"sk-toggleable__content\"><pre>MLPClassifier()</pre></div></div></div></div></div></div></div></div></div></div></div></div>"
      ],
      "text/plain": [
       "GridSearchCV(estimator=Pipeline(steps=[('algoritma', MLPClassifier())]),\n",
       "             param_grid={'algoritma__activation': ['relu', 'tanh', 'logistic'],\n",
       "                         'algoritma__alpha': [0.1, 0.01, 1],\n",
       "                         'algoritma__early_stopping': [True],\n",
       "                         'algoritma__hidden_layer_sizes': [{1}, {10}],\n",
       "                         'algoritma__learning_rate_init': [0.01]})"
      ]
     },
     "execution_count": 10,
     "metadata": {},
     "output_type": "execute_result"
    }
   ],
   "source": [
    "%%time\n",
    "model_NN_BoW.fit(X_train,y_train)"
   ]
  },
  {
   "cell_type": "code",
   "execution_count": 11,
   "metadata": {},
   "outputs": [
    {
     "name": "stdout",
     "output_type": "stream",
     "text": [
      "CPU times: total: 37.4 s\n",
      "Wall time: 6min 22s\n"
     ]
    },
    {
     "data": {
      "text/html": [
       "<style>#sk-container-id-2 {color: black;}#sk-container-id-2 pre{padding: 0;}#sk-container-id-2 div.sk-toggleable {background-color: white;}#sk-container-id-2 label.sk-toggleable__label {cursor: pointer;display: block;width: 100%;margin-bottom: 0;padding: 0.3em;box-sizing: border-box;text-align: center;}#sk-container-id-2 label.sk-toggleable__label-arrow:before {content: \"▸\";float: left;margin-right: 0.25em;color: #696969;}#sk-container-id-2 label.sk-toggleable__label-arrow:hover:before {color: black;}#sk-container-id-2 div.sk-estimator:hover label.sk-toggleable__label-arrow:before {color: black;}#sk-container-id-2 div.sk-toggleable__content {max-height: 0;max-width: 0;overflow: hidden;text-align: left;background-color: #f0f8ff;}#sk-container-id-2 div.sk-toggleable__content pre {margin: 0.2em;color: black;border-radius: 0.25em;background-color: #f0f8ff;}#sk-container-id-2 input.sk-toggleable__control:checked~div.sk-toggleable__content {max-height: 200px;max-width: 100%;overflow: auto;}#sk-container-id-2 input.sk-toggleable__control:checked~label.sk-toggleable__label-arrow:before {content: \"▾\";}#sk-container-id-2 div.sk-estimator input.sk-toggleable__control:checked~label.sk-toggleable__label {background-color: #d4ebff;}#sk-container-id-2 div.sk-label input.sk-toggleable__control:checked~label.sk-toggleable__label {background-color: #d4ebff;}#sk-container-id-2 input.sk-hidden--visually {border: 0;clip: rect(1px 1px 1px 1px);clip: rect(1px, 1px, 1px, 1px);height: 1px;margin: -1px;overflow: hidden;padding: 0;position: absolute;width: 1px;}#sk-container-id-2 div.sk-estimator {font-family: monospace;background-color: #f0f8ff;border: 1px dotted black;border-radius: 0.25em;box-sizing: border-box;margin-bottom: 0.5em;}#sk-container-id-2 div.sk-estimator:hover {background-color: #d4ebff;}#sk-container-id-2 div.sk-parallel-item::after {content: \"\";width: 100%;border-bottom: 1px solid gray;flex-grow: 1;}#sk-container-id-2 div.sk-label:hover label.sk-toggleable__label {background-color: #d4ebff;}#sk-container-id-2 div.sk-serial::before {content: \"\";position: absolute;border-left: 1px solid gray;box-sizing: border-box;top: 0;bottom: 0;left: 50%;z-index: 0;}#sk-container-id-2 div.sk-serial {display: flex;flex-direction: column;align-items: center;background-color: white;padding-right: 0.2em;padding-left: 0.2em;position: relative;}#sk-container-id-2 div.sk-item {position: relative;z-index: 1;}#sk-container-id-2 div.sk-parallel {display: flex;align-items: stretch;justify-content: center;background-color: white;position: relative;}#sk-container-id-2 div.sk-item::before, #sk-container-id-2 div.sk-parallel-item::before {content: \"\";position: absolute;border-left: 1px solid gray;box-sizing: border-box;top: 0;bottom: 0;left: 50%;z-index: -1;}#sk-container-id-2 div.sk-parallel-item {display: flex;flex-direction: column;z-index: 1;position: relative;background-color: white;}#sk-container-id-2 div.sk-parallel-item:first-child::after {align-self: flex-end;width: 50%;}#sk-container-id-2 div.sk-parallel-item:last-child::after {align-self: flex-start;width: 50%;}#sk-container-id-2 div.sk-parallel-item:only-child::after {width: 0;}#sk-container-id-2 div.sk-dashed-wrapped {border: 1px dashed gray;margin: 0 0.4em 0.5em 0.4em;box-sizing: border-box;padding-bottom: 0.4em;background-color: white;}#sk-container-id-2 div.sk-label label {font-family: monospace;font-weight: bold;display: inline-block;line-height: 1.2em;}#sk-container-id-2 div.sk-label-container {text-align: center;}#sk-container-id-2 div.sk-container {/* jupyter's `normalize.less` sets `[hidden] { display: none; }` but bootstrap.min.css set `[hidden] { display: none !important; }` so we also need the `!important` here to be able to override the default hidden behavior on the sphinx rendered scikit-learn.org. See: https://github.com/scikit-learn/scikit-learn/issues/21755 */display: inline-block !important;position: relative;}#sk-container-id-2 div.sk-text-repr-fallback {display: none;}</style><div id=\"sk-container-id-2\" class=\"sk-top-container\"><div class=\"sk-text-repr-fallback\"><pre>GridSearchCV(estimator=Pipeline(steps=[(&#x27;algoritma&#x27;, MLPClassifier())]),\n",
       "             param_grid={&#x27;algoritma__activation&#x27;: [&#x27;relu&#x27;, &#x27;tanh&#x27;, &#x27;logistic&#x27;],\n",
       "                         &#x27;algoritma__alpha&#x27;: [0.1, 0.01, 1],\n",
       "                         &#x27;algoritma__early_stopping&#x27;: [True],\n",
       "                         &#x27;algoritma__hidden_layer_sizes&#x27;: [{1}, {10}],\n",
       "                         &#x27;algoritma__learning_rate_init&#x27;: [0.01]})</pre><b>In a Jupyter environment, please rerun this cell to show the HTML representation or trust the notebook. <br />On GitHub, the HTML representation is unable to render, please try loading this page with nbviewer.org.</b></div><div class=\"sk-container\" hidden><div class=\"sk-item sk-dashed-wrapped\"><div class=\"sk-label-container\"><div class=\"sk-label sk-toggleable\"><input class=\"sk-toggleable__control sk-hidden--visually\" id=\"sk-estimator-id-4\" type=\"checkbox\" ><label for=\"sk-estimator-id-4\" class=\"sk-toggleable__label sk-toggleable__label-arrow\">GridSearchCV</label><div class=\"sk-toggleable__content\"><pre>GridSearchCV(estimator=Pipeline(steps=[(&#x27;algoritma&#x27;, MLPClassifier())]),\n",
       "             param_grid={&#x27;algoritma__activation&#x27;: [&#x27;relu&#x27;, &#x27;tanh&#x27;, &#x27;logistic&#x27;],\n",
       "                         &#x27;algoritma__alpha&#x27;: [0.1, 0.01, 1],\n",
       "                         &#x27;algoritma__early_stopping&#x27;: [True],\n",
       "                         &#x27;algoritma__hidden_layer_sizes&#x27;: [{1}, {10}],\n",
       "                         &#x27;algoritma__learning_rate_init&#x27;: [0.01]})</pre></div></div></div><div class=\"sk-parallel\"><div class=\"sk-parallel-item\"><div class=\"sk-item\"><div class=\"sk-label-container\"><div class=\"sk-label sk-toggleable\"><input class=\"sk-toggleable__control sk-hidden--visually\" id=\"sk-estimator-id-5\" type=\"checkbox\" ><label for=\"sk-estimator-id-5\" class=\"sk-toggleable__label sk-toggleable__label-arrow\">estimator: Pipeline</label><div class=\"sk-toggleable__content\"><pre>Pipeline(steps=[(&#x27;algoritma&#x27;, MLPClassifier())])</pre></div></div></div><div class=\"sk-serial\"><div class=\"sk-item\"><div class=\"sk-serial\"><div class=\"sk-item\"><div class=\"sk-estimator sk-toggleable\"><input class=\"sk-toggleable__control sk-hidden--visually\" id=\"sk-estimator-id-6\" type=\"checkbox\" ><label for=\"sk-estimator-id-6\" class=\"sk-toggleable__label sk-toggleable__label-arrow\">MLPClassifier</label><div class=\"sk-toggleable__content\"><pre>MLPClassifier()</pre></div></div></div></div></div></div></div></div></div></div></div></div>"
      ],
      "text/plain": [
       "GridSearchCV(estimator=Pipeline(steps=[('algoritma', MLPClassifier())]),\n",
       "             param_grid={'algoritma__activation': ['relu', 'tanh', 'logistic'],\n",
       "                         'algoritma__alpha': [0.1, 0.01, 1],\n",
       "                         'algoritma__early_stopping': [True],\n",
       "                         'algoritma__hidden_layer_sizes': [{1}, {10}],\n",
       "                         'algoritma__learning_rate_init': [0.01]})"
      ]
     },
     "execution_count": 11,
     "metadata": {},
     "output_type": "execute_result"
    }
   ],
   "source": [
    "%%time\n",
    "model_NN_TFIDF.fit(X_train_2,y_train_2)"
   ]
  },
  {
   "cell_type": "markdown",
   "metadata": {},
   "source": [
    " Trying to get the best hyperparameters for your machine learning model."
   ]
  },
  {
   "cell_type": "code",
   "execution_count": 12,
   "metadata": {},
   "outputs": [
    {
     "name": "stdout",
     "output_type": "stream",
     "text": [
      "Best parameters of Model NN-BoW:  {'algoritma__activation': 'relu', 'algoritma__alpha': 0.1, 'algoritma__early_stopping': True, 'algoritma__hidden_layer_sizes': {10}, 'algoritma__learning_rate_init': 0.01}\n",
      "Best parameters of Model NN-TFIDF:  {'algoritma__activation': 'relu', 'algoritma__alpha': 0.1, 'algoritma__early_stopping': True, 'algoritma__hidden_layer_sizes': {10}, 'algoritma__learning_rate_init': 0.01}\n"
     ]
    }
   ],
   "source": [
    "print(\"Best parameters of Model NN-BoW: \", model_NN_BoW.best_params_ )\n",
    "print(\"Best parameters of Model NN-TFIDF: \", model_NN_TFIDF.best_params_ )"
   ]
  },
  {
   "cell_type": "markdown",
   "metadata": {},
   "source": [
    "Save a machine learning model using the pickle.dump function. The pickle.dump function is used to serialize the model_NN object and write it to a file named model_NN.pickle in binary mode. The open function is used to open the file in binary write mode (wb)."
   ]
  },
  {
   "cell_type": "code",
   "execution_count": 13,
   "metadata": {},
   "outputs": [],
   "source": [
    "pickle.dump(model_NN_BoW, open(r\"..\\NN_Files\\model_NN_BoW_stopword.pickle\", 'wb'))\n",
    "pickle.dump(model_NN_TFIDF, open(r\"..\\NN_Files\\model_NN_TFIDF_stopword.pickle\", 'wb'))"
   ]
  },
  {
   "cell_type": "markdown",
   "metadata": {},
   "source": [
    "## EVALUATION\n",
    "<p>Pada dasarnya, tujuan dari machine learning adalah untuk membuat model yang dapat memprediksi data baru dengan akurasi yang tinggi. Untuk mencapai tujuan tersebut, model harus dilatih menggunakan data yang cukup dan representatif. Oleh karena itu, data yang digunakan untuk melatih model biasanya dibagi menjadi dua bagian, yaitu data training dan data testing. Data training digunakan untuk melatih model, sedangkan data testing digunakan untuk menguji performa model yang sudah dilatih sebelumnya ketika menemukan data baru yang belum pernah dilihat sebelumnya. Dalam hal ini, pengujian dengan seluruh dataset dapat memberikan gambaran tentang performa model secara keseluruhan, sedangkan pengujian dengan data training dan data testing dapat memberikan gambaran tentang performa model pada data yang belum pernah dilihat sebelumnya. Dengan demikian, pengujian dengan seluruh dataset, data training, dan data testing sangat penting untuk mengevaluasi performa model dan memastikan bahwa model dapat memprediksi data baru dengan akurasi yang tinggi."
   ]
  },
  {
   "cell_type": "markdown",
   "metadata": {},
   "source": [
    "EVALUASI MODEL NN-BoW"
   ]
  },
  {
   "cell_type": "code",
   "execution_count": 14,
   "metadata": {},
   "outputs": [],
   "source": [
    "y_pred_NN_BoW_Dataset = model_NN_BoW.predict(BoW)"
   ]
  },
  {
   "cell_type": "code",
   "execution_count": 15,
   "metadata": {},
   "outputs": [
    {
     "name": "stdout",
     "output_type": "stream",
     "text": [
      "              precision    recall  f1-score   support\n",
      "\n",
      "    negative       0.92      0.93      0.93      3412\n",
      "     neutral       0.95      0.89      0.92      1138\n",
      "    positive       0.96      0.97      0.96      6383\n",
      "\n",
      "    accuracy                           0.95     10933\n",
      "   macro avg       0.94      0.93      0.94     10933\n",
      "weighted avg       0.95      0.95      0.95     10933\n",
      "\n",
      "Confusion matrix:\n",
      " [[3181   34  197]\n",
      " [  75 1010   53]\n",
      " [ 199   21 6163]]\n"
     ]
    }
   ],
   "source": [
    "print(classification_report(y,y_pred_NN_BoW_Dataset))\n",
    "\n",
    "conf_mat_NN_BoW_Dataset = confusion_matrix(y,y_pred_NN_BoW_Dataset)\n",
    "print(\"Confusion matrix:\\n\", conf_mat_NN_BoW_Dataset)"
   ]
  },
  {
   "cell_type": "code",
   "execution_count": 16,
   "metadata": {},
   "outputs": [],
   "source": [
    "y_pred_NN_BoW_Train = model_NN_BoW.predict(X_train)"
   ]
  },
  {
   "cell_type": "code",
   "execution_count": 17,
   "metadata": {},
   "outputs": [
    {
     "name": "stdout",
     "output_type": "stream",
     "text": [
      "              precision    recall  f1-score   support\n",
      "\n",
      "    negative       0.95      0.96      0.96      2725\n",
      "     neutral       0.97      0.94      0.96       907\n",
      "    positive       0.98      0.98      0.98      5114\n",
      "\n",
      "    accuracy                           0.97      8746\n",
      "   macro avg       0.97      0.96      0.96      8746\n",
      "weighted avg       0.97      0.97      0.97      8746\n",
      "\n",
      "Confusion matrix:\n",
      " [[2624   13   88]\n",
      " [  30  850   27]\n",
      " [ 112    9 4993]]\n"
     ]
    }
   ],
   "source": [
    "print(classification_report(y_train,y_pred_NN_BoW_Train))\n",
    "\n",
    "conf_mat_NN_BoW_Train = confusion_matrix(y_train,y_pred_NN_BoW_Train)\n",
    "print(\"Confusion matrix:\\n\", conf_mat_NN_BoW_Train)"
   ]
  },
  {
   "cell_type": "code",
   "execution_count": 18,
   "metadata": {},
   "outputs": [],
   "source": [
    "y_pred_NN_BoW_Test = model_NN_BoW.predict(X_test)"
   ]
  },
  {
   "cell_type": "code",
   "execution_count": 19,
   "metadata": {},
   "outputs": [
    {
     "name": "stdout",
     "output_type": "stream",
     "text": [
      "              precision    recall  f1-score   support\n",
      "\n",
      "    negative       0.81      0.81      0.81       687\n",
      "     neutral       0.83      0.69      0.75       231\n",
      "    positive       0.90      0.92      0.91      1269\n",
      "\n",
      "    accuracy                           0.86      2187\n",
      "   macro avg       0.84      0.81      0.82      2187\n",
      "weighted avg       0.86      0.86      0.86      2187\n",
      "\n",
      "Confusion matrix:\n",
      " [[ 557   21  109]\n",
      " [  45  160   26]\n",
      " [  87   12 1170]]\n"
     ]
    }
   ],
   "source": [
    "print(classification_report(y_test,y_pred_NN_BoW_Test))\n",
    "\n",
    "conf_mat_NN_BoW_Test = confusion_matrix(y_test,y_pred_NN_BoW_Test)\n",
    "print(\"Confusion matrix:\\n\", conf_mat_NN_BoW_Test)"
   ]
  },
  {
   "cell_type": "markdown",
   "metadata": {},
   "source": [
    "EVALUASI MODEL NN-TFIDF"
   ]
  },
  {
   "cell_type": "code",
   "execution_count": 20,
   "metadata": {},
   "outputs": [],
   "source": [
    "y_pred_NN_TFIDF_Dataset = model_NN_TFIDF.predict(TFIDF)"
   ]
  },
  {
   "cell_type": "code",
   "execution_count": 21,
   "metadata": {},
   "outputs": [
    {
     "name": "stdout",
     "output_type": "stream",
     "text": [
      "              precision    recall  f1-score   support\n",
      "\n",
      "    negative       0.91      0.92      0.91      3412\n",
      "     neutral       0.94      0.88      0.91      1138\n",
      "    positive       0.95      0.96      0.96      6383\n",
      "\n",
      "    accuracy                           0.94     10933\n",
      "   macro avg       0.94      0.92      0.93     10933\n",
      "weighted avg       0.94      0.94      0.94     10933\n",
      "\n",
      "Confusion matrix:\n",
      " [[3127   26  259]\n",
      " [  89 1003   46]\n",
      " [ 209   35 6139]]\n"
     ]
    }
   ],
   "source": [
    "print(classification_report(y,y_pred_NN_TFIDF_Dataset))\n",
    "\n",
    "conf_mat_NN_TFIDF_Dataset = confusion_matrix(y,y_pred_NN_TFIDF_Dataset)\n",
    "print(\"Confusion matrix:\\n\", conf_mat_NN_TFIDF_Dataset)"
   ]
  },
  {
   "cell_type": "code",
   "execution_count": 22,
   "metadata": {},
   "outputs": [],
   "source": [
    "y_pred_NN_TFIDF_Train = model_NN_TFIDF.predict(X_train_2)"
   ]
  },
  {
   "cell_type": "code",
   "execution_count": 23,
   "metadata": {},
   "outputs": [
    {
     "name": "stdout",
     "output_type": "stream",
     "text": [
      "              precision    recall  f1-score   support\n",
      "\n",
      "    negative       0.94      0.94      0.94      2725\n",
      "     neutral       0.97      0.93      0.95       907\n",
      "    positive       0.96      0.97      0.97      5114\n",
      "\n",
      "    accuracy                           0.96      8746\n",
      "   macro avg       0.96      0.95      0.95      8746\n",
      "weighted avg       0.96      0.96      0.96      8746\n",
      "\n",
      "Confusion matrix:\n",
      " [[2563    9  153]\n",
      " [  36  842   29]\n",
      " [ 122   17 4975]]\n"
     ]
    }
   ],
   "source": [
    "print(classification_report(y_train, y_pred_NN_TFIDF_Train))\n",
    "\n",
    "conf_mat_NN_TFIDF_Train = confusion_matrix(y_train, y_pred_NN_TFIDF_Train)\n",
    "print(\"Confusion matrix:\\n\", conf_mat_NN_TFIDF_Train)"
   ]
  },
  {
   "cell_type": "code",
   "execution_count": 24,
   "metadata": {},
   "outputs": [],
   "source": [
    "y_pred_NN_TFIDF_Test = model_NN_TFIDF.predict(X_test_2)"
   ]
  },
  {
   "cell_type": "code",
   "execution_count": 25,
   "metadata": {},
   "outputs": [
    {
     "name": "stdout",
     "output_type": "stream",
     "text": [
      "              precision    recall  f1-score   support\n",
      "\n",
      "    negative       0.80      0.82      0.81       687\n",
      "     neutral       0.82      0.70      0.75       231\n",
      "    positive       0.90      0.92      0.91      1269\n",
      "\n",
      "    accuracy                           0.86      2187\n",
      "   macro avg       0.84      0.81      0.83      2187\n",
      "weighted avg       0.86      0.86      0.86      2187\n",
      "\n",
      "Confusion matrix:\n",
      " [[ 564   17  106]\n",
      " [  53  161   17]\n",
      " [  87   18 1164]]\n"
     ]
    },
    {
     "data": {
      "text/plain": [
       "array([[ 564,   17,  106],\n",
       "       [  53,  161,   17],\n",
       "       [  87,   18, 1164]], dtype=int64)"
      ]
     },
     "execution_count": 25,
     "metadata": {},
     "output_type": "execute_result"
    }
   ],
   "source": [
    "print(classification_report(y_test, y_pred_NN_TFIDF_Test))\n",
    "\n",
    "conf_mat_NN_TFIDF_Test = confusion_matrix(y_test, y_pred_NN_TFIDF_Test)\n",
    "print(\"Confusion matrix:\\n\", conf_mat_NN_TFIDF_Test)\n",
    "conf_mat_NN_TFIDF_Test"
   ]
  },
  {
   "cell_type": "markdown",
   "metadata": {},
   "source": [
    "## CROSS VALIDATION\n",
    "<p>Cross-validation dapat membantu mengidentifikasi apakah model mengalami overfitting atau underfitting dengan membagi data menjadi subset untuk training dan testing. Jika model memiliki performa yang baik pada data training tetapi performa yang buruk pada data testing, maka model mungkin mengalami overfitting. Sebaliknya, jika model memiliki performa yang buruk pada data training dan data testing, maka model mungkin mengalami underfitting."
   ]
  },
  {
   "cell_type": "markdown",
   "metadata": {},
   "source": [
    "CROSS VALIDATION - WITH PIPELINE PARAMETER\n",
    "\n",
    "This code will split your dataset into n_splits folds, train an MLPClassifier model on each fold, and test the model on the remaining folds. The GridSearchCV object will perform a search over the parameter grid to find the best hyperparameters for the model. The best hyperparameters will be used to create a new MLPClassifier object, which will be used to obtain the predictions using cross_val_predict. Finally, the confusion matrix, f1 score, precision score, recall score, and accuracy score will be computed and printed."
   ]
  },
  {
   "cell_type": "code",
   "execution_count": 26,
   "metadata": {},
   "outputs": [
    {
     "name": "stdout",
     "output_type": "stream",
     "text": [
      "Training ke- 1\n",
      "\n",
      "              precision    recall  f1-score   support\n",
      "\n",
      "    negative       0.79      0.81      0.80       650\n",
      "     neutral       0.81      0.70      0.75       235\n",
      "    positive       0.91      0.92      0.91      1302\n",
      "\n",
      "    accuracy                           0.86      2187\n",
      "   macro avg       0.83      0.81      0.82      2187\n",
      "weighted avg       0.86      0.86      0.86      2187\n",
      "\n",
      "Confusion matrix:\n",
      " [[2302   83  377]\n",
      " [ 200  607   96]\n",
      " [ 381   47 4653]]\n",
      "\n",
      "Best parameters:  {'algoritma__activation': 'relu', 'algoritma__alpha': 0.01, 'algoritma__early_stopping': True, 'algoritma__hidden_layer_sizes': {10}, 'algoritma__learning_rate_init': 0.01}\n",
      "\n",
      "======================================================================\n",
      "\n",
      "Training ke- 2\n",
      "\n",
      "              precision    recall  f1-score   support\n",
      "\n",
      "    negative       0.83      0.80      0.81       683\n",
      "     neutral       0.79      0.79      0.79       206\n",
      "    positive       0.91      0.92      0.91      1298\n",
      "\n",
      "    accuracy                           0.87      2187\n",
      "   macro avg       0.84      0.84      0.84      2187\n",
      "weighted avg       0.87      0.87      0.87      2187\n",
      "\n",
      "Confusion matrix:\n",
      " [[2256   95  378]\n",
      " [ 186  644  102]\n",
      " [ 375   56 4654]]\n",
      "\n",
      "Best parameters:  {'algoritma__activation': 'tanh', 'algoritma__alpha': 0.1, 'algoritma__early_stopping': True, 'algoritma__hidden_layer_sizes': {10}, 'algoritma__learning_rate_init': 0.01}\n",
      "\n",
      "======================================================================\n",
      "\n",
      "Training ke- 3\n",
      "\n",
      "              precision    recall  f1-score   support\n",
      "\n",
      "    negative       0.77      0.84      0.80       671\n",
      "     neutral       0.86      0.71      0.77       251\n",
      "    positive       0.90      0.90      0.90      1265\n",
      "\n",
      "    accuracy                           0.86      2187\n",
      "   macro avg       0.85      0.81      0.83      2187\n",
      "weighted avg       0.86      0.86      0.86      2187\n",
      "\n",
      "Confusion matrix:\n",
      " [[2268   89  384]\n",
      " [ 184  610   93]\n",
      " [ 398   68 4652]]\n",
      "\n",
      "Best parameters:  {'algoritma__activation': 'relu', 'algoritma__alpha': 0.01, 'algoritma__early_stopping': True, 'algoritma__hidden_layer_sizes': {10}, 'algoritma__learning_rate_init': 0.01}\n",
      "\n",
      "======================================================================\n",
      "\n",
      "Training ke- 4\n",
      "\n",
      "              precision    recall  f1-score   support\n",
      "\n",
      "    negative       0.82      0.82      0.82       699\n",
      "     neutral       0.82      0.74      0.78       234\n",
      "    positive       0.90      0.92      0.91      1253\n",
      "\n",
      "    accuracy                           0.87      2186\n",
      "   macro avg       0.85      0.82      0.83      2186\n",
      "weighted avg       0.87      0.87      0.87      2186\n",
      "\n",
      "Confusion matrix:\n",
      " [[2239   73  401]\n",
      " [ 199  608   97]\n",
      " [ 399   56 4675]]\n",
      "\n",
      "Best parameters:  {'algoritma__activation': 'tanh', 'algoritma__alpha': 0.01, 'algoritma__early_stopping': True, 'algoritma__hidden_layer_sizes': {10}, 'algoritma__learning_rate_init': 0.01}\n",
      "\n",
      "======================================================================\n",
      "\n",
      "Training ke- 5\n",
      "\n",
      "              precision    recall  f1-score   support\n",
      "\n",
      "    negative       0.82      0.85      0.83       709\n",
      "     neutral       0.77      0.68      0.72       212\n",
      "    positive       0.91      0.91      0.91      1265\n",
      "\n",
      "    accuracy                           0.87      2186\n",
      "   macro avg       0.83      0.81      0.82      2186\n",
      "weighted avg       0.87      0.87      0.87      2186\n",
      "\n",
      "Confusion matrix:\n",
      " [[2222   82  399]\n",
      " [ 189  647   90]\n",
      " [ 400   72 4646]]\n",
      "\n",
      "Best parameters:  {'algoritma__activation': 'relu', 'algoritma__alpha': 0.01, 'algoritma__early_stopping': True, 'algoritma__hidden_layer_sizes': {10}, 'algoritma__learning_rate_init': 0.01}\n",
      "\n",
      "======================================================================\n",
      "\n",
      "\n",
      "\n",
      "\n",
      "Rata-rata Accuracy:  0.8648133715362885\n",
      "Best parameters:  {'algoritma__activation': 'relu', 'algoritma__alpha': 0.01, 'algoritma__early_stopping': True, 'algoritma__hidden_layer_sizes': {10}, 'algoritma__learning_rate_init': 0.01}\n"
     ]
    }
   ],
   "source": [
    "from sklearn.model_selection import KFold\n",
    "from sklearn.model_selection import cross_val_predict\n",
    "\n",
    "kf = KFold(n_splits=5, shuffle=False)\n",
    "accuracies = []\n",
    "\n",
    "for iteration, data in enumerate(kf.split(BoW), start=1):\n",
    "\n",
    "  data_train = BoW[data[0]]\n",
    "  target_train = y[data[0]]\n",
    "\n",
    "  data_test = BoW[data[1]]\n",
    "  target_test = y[data[1]]\n",
    "\n",
    "  # Create an MLPClassifier object\n",
    "  clf = MLPClassifier()\n",
    "\n",
    "  # Create a pipeline object\n",
    "  pipeline = Pipeline(steps=[('algoritma', clf)])\n",
    "\n",
    "  # Define the parameter grid\n",
    "  parameter_grid = {\n",
    "      'algoritma__hidden_layer_sizes': [{i} for i in [1, 10]],\n",
    "      'algoritma__activation': ['relu','tanh','logistic'],\n",
    "      'algoritma__learning_rate_init' : [0.01],\n",
    "      'algoritma__alpha': [0.1,0.01,1],\n",
    "      'algoritma__early_stopping': [True]\n",
    "  }\n",
    "\n",
    "  # Create a GridSearchCV object\n",
    "  grid_search = GridSearchCV(pipeline, parameter_grid, cv=kf)\n",
    "\n",
    "  # Fit the GridSearchCV object to the data\n",
    "  grid_search.fit(data_train, target_train)\n",
    "\n",
    "  predictions = grid_search.predict(data_test)\n",
    "\n",
    "  # Use cross_val_predict to obtain the predictions\n",
    "  y_prediction = cross_val_predict(grid_search.best_estimator_, data_train, target_train, cv=kf)\n",
    "\n",
    "  # for the current fold only\n",
    "\n",
    "  accuracy = accuracy_score(target_test,predictions)\n",
    "\n",
    "  print(\"Training ke-\", iteration)\n",
    "  print()\n",
    "  print(classification_report(target_test,predictions))\n",
    "  accuracies.append(accuracy)\n",
    "  # Compute the confusion matrix\n",
    "  conf_mat = confusion_matrix(target_train, y_prediction)\n",
    "  # Print the confusion matrix\n",
    "  print(\"Confusion matrix:\\n\", conf_mat)\n",
    "  print()\n",
    "  print(\"Best parameters: \", grid_search.best_params_)\n",
    "  print()\n",
    "  print(\"======================================================================\")\n",
    "  print()\n",
    "\n",
    "# this is the average accuracy over all folds\n",
    "\n",
    "average_accuracy = np.mean(accuracies)\n",
    "\n",
    "print()\n",
    "print()\n",
    "print()\n",
    "print(\"Rata-rata Accuracy: \", average_accuracy)\n",
    "\n",
    "# Print the best parameters\n",
    "print(\"Best parameters: \", grid_search.best_params_)\n",
    "\n"
   ]
  },
  {
   "cell_type": "markdown",
   "metadata": {},
   "source": [
    "CROSS VALIDATION NN-TFIDF"
   ]
  },
  {
   "cell_type": "code",
   "execution_count": 27,
   "metadata": {},
   "outputs": [
    {
     "name": "stdout",
     "output_type": "stream",
     "text": [
      "Training ke- 1\n",
      "\n",
      "              precision    recall  f1-score   support\n",
      "\n",
      "    negative       0.79      0.84      0.81       650\n",
      "     neutral       0.80      0.74      0.77       235\n",
      "    positive       0.93      0.91      0.92      1302\n",
      "\n",
      "    accuracy                           0.87      2187\n",
      "   macro avg       0.84      0.83      0.83      2187\n",
      "weighted avg       0.87      0.87      0.87      2187\n",
      "\n",
      "Confusion matrix:\n",
      " [[2272   81  409]\n",
      " [ 201  608   94]\n",
      " [ 378   59 4644]]\n",
      "\n",
      "Best parameters:  {'algoritma__activation': 'relu', 'algoritma__alpha': 0.1, 'algoritma__early_stopping': True, 'algoritma__hidden_layer_sizes': {10}, 'algoritma__learning_rate_init': 0.01}\n",
      "\n",
      "======================================================================\n",
      "\n",
      "Training ke- 2\n",
      "\n",
      "              precision    recall  f1-score   support\n",
      "\n",
      "    negative       0.80      0.81      0.81       683\n",
      "     neutral       0.83      0.63      0.72       206\n",
      "    positive       0.90      0.93      0.92      1298\n",
      "\n",
      "    accuracy                           0.87      2187\n",
      "   macro avg       0.85      0.79      0.81      2187\n",
      "weighted avg       0.86      0.87      0.86      2187\n",
      "\n",
      "Confusion matrix:\n",
      " [[2214   73  442]\n",
      " [ 234  592  106]\n",
      " [ 349   49 4687]]\n",
      "\n",
      "Best parameters:  {'algoritma__activation': 'logistic', 'algoritma__alpha': 0.1, 'algoritma__early_stopping': True, 'algoritma__hidden_layer_sizes': {10}, 'algoritma__learning_rate_init': 0.01}\n",
      "\n",
      "======================================================================\n",
      "\n",
      "Training ke- 3\n",
      "\n",
      "              precision    recall  f1-score   support\n",
      "\n",
      "    negative       0.78      0.86      0.82       671\n",
      "     neutral       0.85      0.67      0.75       251\n",
      "    positive       0.92      0.91      0.91      1265\n",
      "\n",
      "    accuracy                           0.86      2187\n",
      "   macro avg       0.85      0.81      0.83      2187\n",
      "weighted avg       0.87      0.86      0.86      2187\n",
      "\n",
      "Confusion matrix:\n",
      " [[2239   56  446]\n",
      " [ 249  530  108]\n",
      " [ 381   41 4696]]\n",
      "\n",
      "Best parameters:  {'algoritma__activation': 'logistic', 'algoritma__alpha': 0.1, 'algoritma__early_stopping': True, 'algoritma__hidden_layer_sizes': {10}, 'algoritma__learning_rate_init': 0.01}\n",
      "\n",
      "======================================================================\n",
      "\n",
      "Training ke- 4\n",
      "\n",
      "              precision    recall  f1-score   support\n",
      "\n",
      "    negative       0.79      0.83      0.81       699\n",
      "     neutral       0.84      0.65      0.73       234\n",
      "    positive       0.90      0.92      0.91      1253\n",
      "\n",
      "    accuracy                           0.86      2186\n",
      "   macro avg       0.85      0.80      0.82      2186\n",
      "weighted avg       0.86      0.86      0.86      2186\n",
      "\n",
      "Confusion matrix:\n",
      " [[2179  100  434]\n",
      " [ 177  626  101]\n",
      " [ 391   62 4677]]\n",
      "\n",
      "Best parameters:  {'algoritma__activation': 'relu', 'algoritma__alpha': 0.01, 'algoritma__early_stopping': True, 'algoritma__hidden_layer_sizes': {10}, 'algoritma__learning_rate_init': 0.01}\n",
      "\n",
      "======================================================================\n",
      "\n",
      "Training ke- 5\n",
      "\n",
      "              precision    recall  f1-score   support\n",
      "\n",
      "    negative       0.82      0.82      0.82       709\n",
      "     neutral       0.75      0.72      0.73       212\n",
      "    positive       0.91      0.91      0.91      1265\n",
      "\n",
      "    accuracy                           0.86      2186\n",
      "   macro avg       0.82      0.82      0.82      2186\n",
      "weighted avg       0.86      0.86      0.86      2186\n",
      "\n",
      "Confusion matrix:\n",
      " [[2179   77  447]\n",
      " [ 211  600  115]\n",
      " [ 431   56 4631]]\n",
      "\n",
      "Best parameters:  {'algoritma__activation': 'relu', 'algoritma__alpha': 0.01, 'algoritma__early_stopping': True, 'algoritma__hidden_layer_sizes': {10}, 'algoritma__learning_rate_init': 0.01}\n",
      "\n",
      "======================================================================\n",
      "\n",
      "\n",
      "\n",
      "\n",
      "Rata-rata Accuracy:  0.8642635451689703\n",
      "Best parameters:  {'algoritma__activation': 'relu', 'algoritma__alpha': 0.01, 'algoritma__early_stopping': True, 'algoritma__hidden_layer_sizes': {10}, 'algoritma__learning_rate_init': 0.01}\n"
     ]
    }
   ],
   "source": [
    "accuracies = []\n",
    "\n",
    "for iteration, data in enumerate(kf.split(TFIDF), start=1):\n",
    "\n",
    "  data_train = TFIDF[data[0]]\n",
    "  target_train = y[data[0]]\n",
    "\n",
    "  data_test = TFIDF[data[1]]\n",
    "  target_test = y[data[1]]\n",
    "\n",
    "  # Create an MLPClassifier object\n",
    "  clf = MLPClassifier()\n",
    "\n",
    "  # Create a pipeline object\n",
    "  pipeline = Pipeline(steps=[('algoritma', clf)])\n",
    "\n",
    "  # Define the parameter grid\n",
    "  parameter_grid = {\n",
    "      'algoritma__hidden_layer_sizes': [{i} for i in [1, 10]],\n",
    "      'algoritma__activation': ['relu','tanh','logistic'],\n",
    "      'algoritma__learning_rate_init' : [0.01],\n",
    "      'algoritma__alpha': [0.1,0.01,1],\n",
    "      'algoritma__early_stopping': [True]\n",
    "  }\n",
    "\n",
    "  # Create a GridSearchCV object\n",
    "  grid_search = GridSearchCV(pipeline, parameter_grid, cv=kf)\n",
    "\n",
    "  # Fit the GridSearchCV object to the data\n",
    "  grid_search.fit(data_train, target_train)\n",
    "\n",
    "  predictions = grid_search.predict(data_test)\n",
    "\n",
    "  # Use cross_val_predict to obtain the predictions\n",
    "  y_prediction = cross_val_predict(grid_search.best_estimator_, data_train, target_train, cv=kf)\n",
    "\n",
    "  # for the current fold only\n",
    "\n",
    "  accuracy = accuracy_score(target_test,predictions)\n",
    "\n",
    "  print(\"Training ke-\", iteration)\n",
    "  print()\n",
    "  print(classification_report(target_test,predictions))\n",
    "  accuracies.append(accuracy)\n",
    "  # Compute the confusion matrix\n",
    "  conf_mat = confusion_matrix(target_train, y_prediction)\n",
    "  # Print the confusion matrix\n",
    "  print(\"Confusion matrix:\\n\", conf_mat)\n",
    "  print()\n",
    "  print(\"Best parameters: \", grid_search.best_params_)\n",
    "  print()\n",
    "  print(\"======================================================================\")\n",
    "  print()\n",
    "\n",
    "# this is the average accuracy over all folds\n",
    "\n",
    "average_accuracy = np.mean(accuracies)\n",
    "\n",
    "print()\n",
    "print()\n",
    "print()\n",
    "print(\"Rata-rata Accuracy: \", average_accuracy)\n",
    "\n",
    "# Print the best parameters\n",
    "print(\"Best parameters: \", grid_search.best_params_)"
   ]
  },
  {
   "attachments": {
    "image.png": {
     "image/png": "[encoded data removed]"
    }
   },
   "cell_type": "markdown",
   "metadata": {},
   "source": [
    "![image.png](attachment:image.png)\n",
    "<p> Model yang overfitting dapat menghasilkan akurasi yang sangat tinggi pada data pelatihan, tetapi akurasi yang lebih rendah pada data pengujian 1. Berikut adalah contoh akurasi model machine learning yang mengalami overfitting:\n",
    "\n",
    "Model yang dibuat untuk memprediksi harga rumah di suatu daerah memiliki akurasi 99% pada data pelatihan, tetapi hanya 50% pada data pengujian 2.\n",
    "Model yang dibuat untuk mengklasifikasikan gambar memiliki akurasi 95% pada data pelatihan, tetapi hanya 60% pada data pengujian \n",
    "<p>Nilai delta rendah : Nilai delta adalah selisih antara akurasi model saat diterapkan pada dataset train dan test."
   ]
  },
  {
   "cell_type": "code",
   "execution_count": 28,
   "metadata": {},
   "outputs": [
    {
     "name": "stdout",
     "output_type": "stream",
     "text": [
      "Input Text: Dia memakan kue dengan lahap dan beringas jelek\n",
      "Text Preprocessing: dia memakan kue dengan lahap dan beringas jelek\n",
      "Extraction Feature:\n",
      "  (0, 5834)\t1\n",
      "  (0, 7154)\t1\n",
      "  (0, 7229)\t1\n",
      "  (0, 8223)\t1\n",
      "Sentiment: negative\n"
     ]
    }
   ],
   "source": [
    "input_text = \"\"\"Dia memakan kue dengan lahap dan beringas jelek\"\"\"\n",
    "def cleansing(text):\n",
    "    text = text.lower() # Mengubah teks menjadi huruf kecil\n",
    "    text = re.sub(r'((www\\.[^\\s]+)|(https?://[^\\s]+)|(http?://[^\\s]+))', ' ', text)# Menghapus URL dan tautan\n",
    "    text = re.sub('url',' ', text)\n",
    "    text = re.sub(r'pic.twitter.com.[\\w]+', ' ', text)\n",
    "    text = re.sub(r'[^a-z\\s]', ' ', text) # Menghapus karakter yang tidak diinginkan, termasuk angka\n",
    "    text = text.replace('user', '')# Menghapus kata 'user'\n",
    "    text = re.sub(' +', ' ', text)# Menghapus spasi berlebih\n",
    "    text = text.replace('\\n', ' ')# Menghapus karakter \\n (newline)\n",
    "    return text\n",
    "    \n",
    "def normalize_text(text):\n",
    "    data_alay = pd.read_sql_query('select * from kamusalay', conn)\n",
    "    dict_alay = dict(zip(data_alay['alay'], data_alay['normal'])) #Membungkus data teks_alay dan teks baku menjadi dictionary\n",
    "    text_list = text.split()\n",
    "    \n",
    "    text_normal_list = [dict_alay.get(word, word) for word in text_list] #Mengambil nilai baku pada data teks_baku\n",
    "    \n",
    "    text_normal = ' '.join(text_normal_list) #mengganti teks yang tidak baku menjadi baku\n",
    "    return text_normal.strip()\n",
    "\n",
    "def stopword_removal(text):\n",
    "    q_stopword = 'SELECT * FROM stopword'\n",
    "    t_stopword = pd.read_sql_query(q_stopword, conn)\n",
    "    stopword_words = set(t_stopword['STOPWORD'])\n",
    "    words = text.split()\n",
    "    filtered_words = [word for word in words if word not in stopword_words]\n",
    "    return ' '.join(filtered_words)\n",
    "\n",
    "def preprocess_text(text):\n",
    "    text = cleansing(text)\n",
    "    text = normalize_text(text)\n",
    "    # text = stopword_removal(text)\n",
    "    return text\n",
    "\n",
    "count_vect = pickle.load(open(r\"..\\NN_Files\\feature_BoW_stopword.pickle\", \"rb\"))\n",
    "model_NN = pickle.load(open(r\"..\\NN_Files\\model_NN_BoW_stopword.pickle\", \"rb\"))\n",
    "\n",
    "sentiment = ['negative', 'neutral', 'positive']\n",
    "\n",
    "text_clean = [preprocess_text(input_text)]\n",
    "text_feture_extration = count_vect.transform(text_clean)\n",
    "\n",
    "prediction = model_NN.predict(text_feture_extration)\n",
    "polarity = np.argmax(prediction[0])\n",
    "hasil = sentiment[polarity]\n",
    "\n",
    "print(\"Input Text: %s\" % input_text)\n",
    "print(\"Text Preprocessing: %s\" % text_clean[0])\n",
    "print(\"Extraction Feature:\\n%s\" % text_feture_extration)\n",
    "print(\"Sentiment: %s\" % hasil)"
   ]
  },
  {
   "cell_type": "code",
   "execution_count": 29,
   "metadata": {},
   "outputs": [
    {
     "name": "stdout",
     "output_type": "stream",
     "text": [
      "CPU times: total: 20.3 s\n",
      "Wall time: 5min 30s\n"
     ]
    }
   ],
   "source": [
    "%%time\n",
    "model_NN_TFIDF.fit(TFIDF,y)\n",
    "pickle.dump(model_NN_TFIDF, open(r\"..\\NN_Files\\model_NN_TFIDF_Dataset_stopword.pickle\", 'wb'))"
   ]
  }
 ],
 "metadata": {
  "kernelspec": {
   "display_name": "Python 3",
   "language": "python",
   "name": "python3"
  },
  "language_info": {
   "codemirror_mode": {
    "name": "ipython",
    "version": 3
   },
   "file_extension": ".py",
   "mimetype": "text/x-python",
   "name": "python",
   "nbconvert_exporter": "python",
   "pygments_lexer": "ipython3",
   "version": "3.11.6"
  }
 },
 "nbformat": 4,
 "nbformat_minor": 2
}
