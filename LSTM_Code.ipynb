{
 "cells": [
  {
   "cell_type": "code",
   "execution_count": 2,
   "metadata": {},
   "outputs": [],
   "source": [
    "import pandas as pd\n",
    "import numpy as np\n",
    "import seaborn as sns\n",
    "import matplotlib.pyplot as plt\n",
    "import sqlite3\n",
    "import pickle\n",
    "from tensorflow.keras.preprocessing.text import Tokenizer\n",
    "from tensorflow.keras.preprocessing.sequence import pad_sequences\n",
    "from collections import defaultdict\n",
    "from sklearn.model_selection import train_test_split\n",
    "from tensorflow.keras import layers\n",
    "from tensorflow.keras.models import Sequential\n",
    "from tensorflow.keras.layers import Dense, Embedding, LSTM, SpatialDropout1D, SimpleRNN, Activation\n",
    "from tensorflow.keras import optimizers\n",
    "from tensorflow.keras.callbacks import EarlyStopping, TensorBoard\n",
    "from tensorflow.keras.layers import Flatten\n",
    "from tensorflow.keras import backend as K\n",
    "from sklearn import metrics\n",
    "from sklearn.metrics import classification_report\n",
    "from sklearn.metrics import accuracy_score\n",
    "from sklearn.model_selection import KFold\n",
    "from keras.models import load_model\n",
    "import re"
   ]
  },
  {
   "cell_type": "code",
   "execution_count": 3,
   "metadata": {},
   "outputs": [
    {
     "data": {
      "text/html": [
       "<div>\n",
       "<style scoped>\n",
       "    .dataframe tbody tr th:only-of-type {\n",
       "        vertical-align: middle;\n",
       "    }\n",
       "\n",
       "    .dataframe tbody tr th {\n",
       "        vertical-align: top;\n",
       "    }\n",
       "\n",
       "    .dataframe thead th {\n",
       "        text-align: right;\n",
       "    }\n",
       "</style>\n",
       "<table border=\"1\" class=\"dataframe\">\n",
       "  <thead>\n",
       "    <tr style=\"text-align: right;\">\n",
       "      <th></th>\n",
       "      <th>Tweet</th>\n",
       "      <th>Label</th>\n",
       "    </tr>\n",
       "  </thead>\n",
       "  <tbody>\n",
       "    <tr>\n",
       "      <th>0</th>\n",
       "      <td>warung dimiliki pengusaha pabrik puluhan terke...</td>\n",
       "      <td>positive</td>\n",
       "    </tr>\n",
       "    <tr>\n",
       "      <th>1</th>\n",
       "      <td>mohon ulama lurus k mmbri hujjah partai diwlh ...</td>\n",
       "      <td>neutral</td>\n",
       "    </tr>\n",
       "    <tr>\n",
       "      <th>2</th>\n",
       "      <td>lokasi strategis jalan sumatra bandung nyaman ...</td>\n",
       "      <td>positive</td>\n",
       "    </tr>\n",
       "    <tr>\n",
       "      <th>3</th>\n",
       "      <td>betapa bahagia unboxing paket barang bagus men...</td>\n",
       "      <td>positive</td>\n",
       "    </tr>\n",
       "    <tr>\n",
       "      <th>4</th>\n",
       "      <td>aduh mahasiswa sombong kasih kartu kuning bela...</td>\n",
       "      <td>negative</td>\n",
       "    </tr>\n",
       "  </tbody>\n",
       "</table>\n",
       "</div>"
      ],
      "text/plain": [
       "                                               Tweet     Label\n",
       "0  warung dimiliki pengusaha pabrik puluhan terke...  positive\n",
       "1  mohon ulama lurus k mmbri hujjah partai diwlh ...   neutral\n",
       "2  lokasi strategis jalan sumatra bandung nyaman ...  positive\n",
       "3  betapa bahagia unboxing paket barang bagus men...  positive\n",
       "4  aduh mahasiswa sombong kasih kartu kuning bela...  negative"
      ]
     },
     "execution_count": 3,
     "metadata": {},
     "output_type": "execute_result"
    }
   ],
   "source": [
    "conn = sqlite3.connect(r'C:\\Users\\kenta\\OneDrive\\Desktop\\Platinum Binar\\database.db', check_same_thread=False)\n",
    "query = 'SELECT * FROM new_data'\n",
    "data = pd.read_sql_query (query, conn)\n",
    "data.head()"
   ]
  },
  {
   "cell_type": "code",
   "execution_count": 4,
   "metadata": {},
   "outputs": [
    {
     "data": {
      "text/plain": [
       "Label\n",
       "positive    6383\n",
       "negative    3412\n",
       "neutral     1138\n",
       "Name: count, dtype: int64"
      ]
     },
     "execution_count": 4,
     "metadata": {},
     "output_type": "execute_result"
    }
   ],
   "source": [
    "data['Label'].value_counts()\n"
   ]
  },
  {
   "cell_type": "code",
   "execution_count": 5,
   "metadata": {},
   "outputs": [],
   "source": [
    "# Oversampling neutral label to be equal with negative label\n",
    "\n",
    "data_pos = data[data['Label']=='positive']\n",
    "data_neu = data[data['Label']=='neutral']\n",
    "data_neg = data[data['Label']=='negative']\n",
    "\n",
    "df_neu = data_neu.sample(data_neg.shape[0], replace = True)\n",
    "\n",
    "data = pd.concat([data_pos, df_neu, data_neg])\n",
    "\n",
    "# Group data tweet\n",
    "\n",
    "pos_tweet = data.loc[data['Label']=='positive'].Tweet.tolist()\n",
    "neg_tweet = data.loc[data['Label']=='negative'].Tweet.tolist()\n",
    "neu_tweet = data.loc[data['Label']=='neutral'].Tweet.tolist()\n",
    "\n",
    "# Group data label\n",
    "\n",
    "pos_label = data.loc[data['Label']=='positive'].Label.tolist()\n",
    "neg_label = data.loc[data['Label']=='negative'].Label.tolist()\n",
    "neu_label = data.loc[data['Label']=='neutral'].Label.tolist()"
   ]
  },
  {
   "cell_type": "code",
   "execution_count": 6,
   "metadata": {},
   "outputs": [
    {
     "name": "stdout",
     "output_type": "stream",
     "text": [
      "Positive: 6383, Neutral: 3412, Negative: 3412\n",
      "Total data: 13207\n",
      "Total labels: 13207\n"
     ]
    }
   ],
   "source": [
    "# Final sentiment data check\n",
    "\n",
    "total_tweets_assemble = pos_tweet + neg_tweet + neu_tweet\n",
    "labels = pos_label + neu_label + neg_label\n",
    "\n",
    "print(\"Positive: %s, Neutral: %s, Negative: %s\" % (len(pos_tweet), len(neu_tweet), len(neg_tweet)))\n",
    "print(\"Total data: %s\" % len(total_tweets_assemble))\n",
    "print(\"Total labels: %s\" % len(labels))"
   ]
  },
  {
   "cell_type": "markdown",
   "metadata": {},
   "source": [
    "Feature Extraction\n",
    "\n",
    "Pemanfaatan tokenizer untuk melakukan ekstraksi data agar mudah diproses dalam modeling data."
   ]
  },
  {
   "cell_type": "code",
   "execution_count": 7,
   "metadata": {},
   "outputs": [
    {
     "name": "stdout",
     "output_type": "stream",
     "text": [
      "File \"TokenizerFile.pickle\" telah tercetak!\n"
     ]
    }
   ],
   "source": [
    "max_features_tokenize = 100000\n",
    "data_tokenizer = Tokenizer(num_words=max_features_tokenize, split=' ', lower=True)\n",
    "data_tokenizer.fit_on_texts(total_tweets_assemble)\n",
    "\n",
    "#Penyimpanan data TokenizerFile kedalam pickle\n",
    "with open('TokenizerFile.pickle', 'wb') as file:\n",
    "    pickle.dump(data_tokenizer, file , protocol=pickle.HIGHEST_PROTOCOL)\n",
    "    print('File \"TokenizerFile.pickle\" telah tercetak!')"
   ]
  },
  {
   "cell_type": "code",
   "execution_count": 8,
   "metadata": {},
   "outputs": [
    {
     "name": "stdout",
     "output_type": "stream",
     "text": [
      "File \"x_pad_sequences.pickle\" telah tercetak!\n"
     ]
    }
   ],
   "source": [
    "#Feature Extraction of X data\n",
    "X = data_tokenizer.texts_to_sequences(total_tweets_assemble)\n",
    "maxlen = max(len(x) for x in X)\n",
    "X = pad_sequences(X)\n",
    "\n",
    "#Penyimpanan data x_pad_sequences kedalam pickle\n",
    "with open('x_pad_sequences.pickle', 'wb') as file:\n",
    "    pickle.dump(X, file , protocol=pickle.HIGHEST_PROTOCOL)\n",
    "    print('File \"x_pad_sequences.pickle\" telah tercetak!')\n",
    "\n",
    "\n",
    "#Feature Extraction of Y data\n",
    "y = pd.get_dummies(labels)\n",
    "y = y.values\n",
    "\n",
    "#Penyimpanan data x_target kedalam library pickle\n",
    "with open('x_target.pickle', 'wb') as file:\n",
    "    pickle.dump(y, file, protocol=pickle.HIGHEST_PROTOCOL)"
   ]
  },
  {
   "cell_type": "code",
   "execution_count": 9,
   "metadata": {},
   "outputs": [
    {
     "data": {
      "text/plain": [
       "(13207, 55)"
      ]
     },
     "execution_count": 9,
     "metadata": {},
     "output_type": "execute_result"
    }
   ],
   "source": [
    "X.shape"
   ]
  },
  {
   "cell_type": "markdown",
   "metadata": {},
   "source": [
    "Train-Test Split Data"
   ]
  },
  {
   "cell_type": "code",
   "execution_count": 10,
   "metadata": {},
   "outputs": [],
   "source": [
    "#Split train-test dataset\n",
    "#Loading Dataset\n",
    "x_file = open('x_pad_sequences.pickle', 'rb')\n",
    "x = pickle.load(x_file)\n",
    "x_file.close()\n",
    "\n",
    "y_file = open('x_target.pickle', 'rb')\n",
    "y = pickle.load(y_file)\n",
    "y_file.close()\n",
    "\n",
    "x_train, x_test, y_train, y_test = train_test_split(x,y, test_size= 0.3, random_state=42)"
   ]
  },
  {
   "cell_type": "code",
   "execution_count": 11,
   "metadata": {},
   "outputs": [
    {
     "name": "stdout",
     "output_type": "stream",
     "text": [
      "Model: \"sequential\"\n",
      "_________________________________________________________________\n",
      " Layer (type)                Output Shape              Param #   \n",
      "=================================================================\n",
      " embedding (Embedding)       (None, 55, 100)           10000000  \n",
      "                                                                 \n",
      " lstm (LSTM)                 (None, 64)                42240     \n",
      "                                                                 \n",
      " dense (Dense)               (None, 3)                 195       \n",
      "                                                                 \n",
      "=================================================================\n",
      "Total params: 10042435 (38.31 MB)\n",
      "Trainable params: 10042435 (38.31 MB)\n",
      "Non-trainable params: 0 (0.00 Byte)\n",
      "_________________________________________________________________\n",
      "None\n",
      "Epoch 1/20\n",
      "289/289 [==============================] - 28s 89ms/step - loss: 0.9372 - accuracy: 0.5961 - val_loss: 0.7511 - val_accuracy: 0.6588\n",
      "Epoch 2/20\n",
      "289/289 [==============================] - 26s 91ms/step - loss: 0.6868 - accuracy: 0.6857 - val_loss: 0.6219 - val_accuracy: 0.6841\n",
      "Epoch 3/20\n",
      "289/289 [==============================] - 26s 89ms/step - loss: 0.5681 - accuracy: 0.7644 - val_loss: 0.5275 - val_accuracy: 0.7805\n",
      "Epoch 4/20\n",
      "289/289 [==============================] - 27s 93ms/step - loss: 0.4624 - accuracy: 0.8305 - val_loss: 0.4553 - val_accuracy: 0.8277\n",
      "Epoch 5/20\n",
      "289/289 [==============================] - 25s 88ms/step - loss: 0.3716 - accuracy: 0.8700 - val_loss: 0.4179 - val_accuracy: 0.8524\n",
      "Epoch 6/20\n",
      "289/289 [==============================] - 26s 91ms/step - loss: 0.3049 - accuracy: 0.8987 - val_loss: 0.3823 - val_accuracy: 0.8589\n",
      "Epoch 7/20\n",
      "289/289 [==============================] - 26s 91ms/step - loss: 0.2499 - accuracy: 0.9167 - val_loss: 0.3736 - val_accuracy: 0.8650\n",
      "Epoch 8/20\n",
      "289/289 [==============================] - 25s 88ms/step - loss: 0.2067 - accuracy: 0.9333 - val_loss: 0.3556 - val_accuracy: 0.8723\n",
      "Epoch 9/20\n",
      "289/289 [==============================] - 26s 91ms/step - loss: 0.1716 - accuracy: 0.9430 - val_loss: 0.3771 - val_accuracy: 0.8655\n",
      "Epoch 10/20\n",
      "289/289 [==============================] - 26s 89ms/step - loss: 0.1465 - accuracy: 0.9511 - val_loss: 0.3580 - val_accuracy: 0.8776\n",
      "Epoch 10: early stopping\n"
     ]
    }
   ],
   "source": [
    "#Pelatihan model menggunakan Train-Test Split\n",
    "model = Sequential()\n",
    "model.add(Embedding(max_features_tokenize, output_dim = 100, input_length = x.shape[1] ))\n",
    "model.add(LSTM(units= 64, dropout=0.2))\n",
    "model.add(Dense(units=y.shape[1], activation= 'softmax'))\n",
    "model.compile(loss = 'binary_crossentropy', optimizer='adam', metrics = ['accuracy'])\n",
    "print(model.summary())\n",
    "\n",
    "adam_optim = optimizers.Adam(learning_rate = 0.0001)\n",
    "model.compile(loss = 'categorical_crossentropy', optimizer = adam_optim, metrics = ['accuracy'])\n",
    "\n",
    "es = EarlyStopping(monitor='val_loss', mode='min', verbose=1, patience=2)\n",
    "history1 = model.fit(x_train, y_train, epochs=20, batch_size=32, \n",
    "                        validation_data=(x_test, y_test), verbose=1, callbacks=[es])"
   ]
  },
  {
   "cell_type": "code",
   "execution_count": 12,
   "metadata": {},
   "outputs": [
    {
     "name": "stdout",
     "output_type": "stream",
     "text": [
      "Epoch 1/8\n",
      "331/331 [==============================] - 32s 90ms/step - loss: 0.9205 - accuracy: 0.5890 - val_loss: 0.7559 - val_accuracy: 0.6624\n",
      "Epoch 2/8\n",
      "331/331 [==============================] - 29s 89ms/step - loss: 0.6910 - accuracy: 0.6776 - val_loss: 0.6384 - val_accuracy: 0.6802\n",
      "Epoch 3/8\n",
      "331/331 [==============================] - 30s 90ms/step - loss: 0.6083 - accuracy: 0.7133 - val_loss: 0.5755 - val_accuracy: 0.7135\n",
      "Epoch 4/8\n",
      "331/331 [==============================] - 28s 85ms/step - loss: 0.5294 - accuracy: 0.7899 - val_loss: 0.5001 - val_accuracy: 0.8217\n",
      "Epoch 5/8\n",
      "331/331 [==============================] - 29s 88ms/step - loss: 0.4373 - accuracy: 0.8404 - val_loss: 0.4258 - val_accuracy: 0.8372\n",
      "Epoch 6/8\n",
      "331/331 [==============================] - 29s 86ms/step - loss: 0.3452 - accuracy: 0.8761 - val_loss: 0.3657 - val_accuracy: 0.8687\n",
      "Epoch 7/8\n",
      "331/331 [==============================] - 29s 87ms/step - loss: 0.2875 - accuracy: 0.8971 - val_loss: 0.3345 - val_accuracy: 0.8747\n",
      "Epoch 8/8\n",
      "331/331 [==============================] - 28s 85ms/step - loss: 0.2444 - accuracy: 0.9136 - val_loss: 0.3212 - val_accuracy: 0.8812\n",
      "124/124 [==============================] - 1s 9ms/step\n",
      "Iterasi ke-1\n",
      "              precision    recall  f1-score   support\n",
      "\n",
      "           0       0.92      0.95      0.93       958\n",
      "           1       0.81      0.82      0.82      1040\n",
      "           2       0.94      0.91      0.92      1965\n",
      "\n",
      "    accuracy                           0.90      3963\n",
      "   macro avg       0.89      0.90      0.89      3963\n",
      "weighted avg       0.90      0.90      0.90      3963\n",
      "\n",
      "======================================================\n",
      "Epoch 1/8\n",
      "331/331 [==============================] - 31s 88ms/step - loss: 0.9240 - accuracy: 0.5771 - val_loss: 0.7808 - val_accuracy: 0.6612\n",
      "Epoch 2/8\n",
      "331/331 [==============================] - 29s 88ms/step - loss: 0.6991 - accuracy: 0.6826 - val_loss: 0.6494 - val_accuracy: 0.6927\n",
      "Epoch 3/8\n",
      "331/331 [==============================] - 30s 90ms/step - loss: 0.5957 - accuracy: 0.7573 - val_loss: 0.5818 - val_accuracy: 0.7793\n",
      "Epoch 4/8\n",
      "331/331 [==============================] - 28s 84ms/step - loss: 0.5062 - accuracy: 0.8164 - val_loss: 0.5080 - val_accuracy: 0.8138\n",
      "Epoch 5/8\n",
      "331/331 [==============================] - 28s 86ms/step - loss: 0.4224 - accuracy: 0.8481 - val_loss: 0.4416 - val_accuracy: 0.8357\n",
      "Epoch 6/8\n",
      "331/331 [==============================] - 29s 88ms/step - loss: 0.3557 - accuracy: 0.8743 - val_loss: 0.4006 - val_accuracy: 0.8577\n",
      "Epoch 7/8\n",
      "331/331 [==============================] - 29s 88ms/step - loss: 0.3007 - accuracy: 0.8939 - val_loss: 0.3683 - val_accuracy: 0.8634\n",
      "Epoch 8/8\n",
      "331/331 [==============================] - 29s 88ms/step - loss: 0.2568 - accuracy: 0.9079 - val_loss: 0.3438 - val_accuracy: 0.8709\n",
      "124/124 [==============================] - 1s 9ms/step\n",
      "Iterasi ke-2\n",
      "              precision    recall  f1-score   support\n",
      "\n",
      "           0       0.96      0.96      0.96       958\n",
      "           1       0.82      0.87      0.85      1040\n",
      "           2       0.94      0.91      0.93      1965\n",
      "\n",
      "    accuracy                           0.91      3963\n",
      "   macro avg       0.91      0.91      0.91      3963\n",
      "weighted avg       0.91      0.91      0.91      3963\n",
      "\n",
      "======================================================\n",
      "Epoch 1/8\n",
      "331/331 [==============================] - 32s 91ms/step - loss: 0.9314 - accuracy: 0.5749 - val_loss: 0.7612 - val_accuracy: 0.6638\n",
      "Epoch 2/8\n",
      "331/331 [==============================] - 29s 89ms/step - loss: 0.6982 - accuracy: 0.6773 - val_loss: 0.6476 - val_accuracy: 0.6861\n",
      "Epoch 3/8\n",
      "331/331 [==============================] - 29s 89ms/step - loss: 0.6010 - accuracy: 0.7383 - val_loss: 0.5806 - val_accuracy: 0.7785\n",
      "Epoch 4/8\n",
      "331/331 [==============================] - 29s 87ms/step - loss: 0.5131 - accuracy: 0.8043 - val_loss: 0.5079 - val_accuracy: 0.8156\n",
      "Epoch 5/8\n",
      "331/331 [==============================] - 28s 86ms/step - loss: 0.4201 - accuracy: 0.8499 - val_loss: 0.4550 - val_accuracy: 0.8251\n",
      "Epoch 6/8\n",
      "331/331 [==============================] - 29s 86ms/step - loss: 0.3457 - accuracy: 0.8765 - val_loss: 0.4046 - val_accuracy: 0.8538\n",
      "Epoch 7/8\n",
      "331/331 [==============================] - 28s 83ms/step - loss: 0.2896 - accuracy: 0.8978 - val_loss: 0.3875 - val_accuracy: 0.8588\n",
      "Epoch 8/8\n",
      "331/331 [==============================] - 28s 86ms/step - loss: 0.2507 - accuracy: 0.9115 - val_loss: 0.3667 - val_accuracy: 0.8569\n",
      "124/124 [==============================] - 2s 9ms/step\n",
      "Iterasi ke-3\n",
      "              precision    recall  f1-score   support\n",
      "\n",
      "           0       0.97      0.96      0.96       958\n",
      "           1       0.84      0.93      0.88      1040\n",
      "           2       0.97      0.92      0.94      1965\n",
      "\n",
      "    accuracy                           0.93      3963\n",
      "   macro avg       0.93      0.94      0.93      3963\n",
      "weighted avg       0.94      0.93      0.93      3963\n",
      "\n",
      "======================================================\n",
      "Epoch 1/8\n",
      "331/331 [==============================] - 32s 91ms/step - loss: 0.9293 - accuracy: 0.5747 - val_loss: 0.7804 - val_accuracy: 0.6755\n",
      "Epoch 2/8\n",
      "331/331 [==============================] - 29s 87ms/step - loss: 0.6924 - accuracy: 0.6823 - val_loss: 0.6541 - val_accuracy: 0.7493\n",
      "Epoch 3/8\n",
      "331/331 [==============================] - 29s 88ms/step - loss: 0.5908 - accuracy: 0.7617 - val_loss: 0.5758 - val_accuracy: 0.7823\n",
      "Epoch 4/8\n",
      "331/331 [==============================] - 29s 88ms/step - loss: 0.4996 - accuracy: 0.8112 - val_loss: 0.4979 - val_accuracy: 0.8126\n",
      "Epoch 5/8\n",
      "331/331 [==============================] - 29s 89ms/step - loss: 0.4030 - accuracy: 0.8554 - val_loss: 0.4305 - val_accuracy: 0.8463\n",
      "Epoch 6/8\n",
      "331/331 [==============================] - 29s 89ms/step - loss: 0.3283 - accuracy: 0.8833 - val_loss: 0.3924 - val_accuracy: 0.8626\n",
      "Epoch 7/8\n",
      "331/331 [==============================] - 29s 86ms/step - loss: 0.2747 - accuracy: 0.9017 - val_loss: 0.3691 - val_accuracy: 0.8667\n",
      "Epoch 8/8\n",
      "331/331 [==============================] - 28s 85ms/step - loss: 0.2358 - accuracy: 0.9169 - val_loss: 0.3493 - val_accuracy: 0.8762\n",
      "124/124 [==============================] - 2s 14ms/step\n",
      "Iterasi ke-4\n",
      "              precision    recall  f1-score   support\n",
      "\n",
      "           0       0.97      0.97      0.97       958\n",
      "           1       0.87      0.90      0.88      1040\n",
      "           2       0.96      0.93      0.94      1965\n",
      "\n",
      "    accuracy                           0.93      3963\n",
      "   macro avg       0.93      0.94      0.93      3963\n",
      "weighted avg       0.94      0.93      0.93      3963\n",
      "\n",
      "======================================================\n",
      "Epoch 1/8\n",
      "331/331 [==============================] - 37s 106ms/step - loss: 0.9244 - accuracy: 0.5784 - val_loss: 0.7637 - val_accuracy: 0.6736\n",
      "Epoch 2/8\n",
      "331/331 [==============================] - 32s 98ms/step - loss: 0.6943 - accuracy: 0.6828 - val_loss: 0.6483 - val_accuracy: 0.6990\n",
      "Epoch 3/8\n",
      "331/331 [==============================] - 32s 95ms/step - loss: 0.5934 - accuracy: 0.7415 - val_loss: 0.5753 - val_accuracy: 0.7762\n",
      "Epoch 4/8\n",
      "331/331 [==============================] - 33s 98ms/step - loss: 0.5022 - accuracy: 0.8166 - val_loss: 0.5021 - val_accuracy: 0.8076\n",
      "Epoch 5/8\n",
      "331/331 [==============================] - 32s 97ms/step - loss: 0.4185 - accuracy: 0.8491 - val_loss: 0.4416 - val_accuracy: 0.8330\n",
      "Epoch 6/8\n",
      "331/331 [==============================] - 32s 98ms/step - loss: 0.3412 - accuracy: 0.8763 - val_loss: 0.3958 - val_accuracy: 0.8455\n",
      "Epoch 7/8\n",
      "331/331 [==============================] - 32s 95ms/step - loss: 0.2843 - accuracy: 0.8977 - val_loss: 0.3695 - val_accuracy: 0.8573\n",
      "Epoch 8/8\n",
      "331/331 [==============================] - 34s 103ms/step - loss: 0.2447 - accuracy: 0.9132 - val_loss: 0.3635 - val_accuracy: 0.8550\n",
      "124/124 [==============================] - 2s 13ms/step\n",
      "Iterasi ke-5\n",
      "              precision    recall  f1-score   support\n",
      "\n",
      "           0       0.98      0.95      0.96       958\n",
      "           1       0.81      0.95      0.87      1040\n",
      "           2       0.98      0.90      0.94      1965\n",
      "\n",
      "    accuracy                           0.93      3963\n",
      "   macro avg       0.92      0.93      0.93      3963\n",
      "weighted avg       0.93      0.93      0.93      3963\n",
      "\n",
      "======================================================\n",
      "\n",
      "\n",
      "\n",
      "\n",
      "Rata-rata Akurasi: 0.9208\n"
     ]
    }
   ],
   "source": [
    "def create_model():\n",
    "    model = Sequential()\n",
    "    model.add(Embedding(max_features_tokenize, embed_dim, input_length=X.shape[1]))\n",
    "    model.add(LSTM(units, dropout=0.5))\n",
    "    model.add(Dense(3, activation='softmax'))\n",
    "    adam = optimizers.Adam(learning_rate=0.0001)\n",
    "    model.compile(loss='categorical_crossentropy', optimizer=adam, metrics=['accuracy'])\n",
    "    return model\n",
    "\n",
    "def train_model(model, data_train, target_train, data_test, target_test):\n",
    "    #es = EarlyStopping(monitor='val_loss', mode='min', verbose=1, patience=2) #Diganti dan tidak usah dipakai pada model kedua\n",
    "    history = model.fit(data_train, target_train, epochs=8, batch_size=32, \n",
    "                        validation_data=(data_test, target_test), verbose=1)\n",
    "    return model, history\n",
    "\n",
    "# Inisialisasi KFold\n",
    "kf = KFold(n_splits=5, random_state=42, shuffle=True)\n",
    "accuracies = []\n",
    "\n",
    "\n",
    "embed_dim = 100\n",
    "units = 64\n",
    "\n",
    "# Iterasi melalui lipatan (folds) KFold\n",
    "for iteration, data in enumerate(kf.split(X), start=1):\n",
    "    data_train, target_train = X[data[0]], y[data[0]]\n",
    "    data_test, target_test = X[data[1]], y[data[1]]\n",
    "\n",
    "    model = create_model()\n",
    "    trained_model, history = train_model(model, data_train, target_train, data_test, target_test)\n",
    "\n",
    "    # Prediksi\n",
    "    predictions = trained_model.predict(x_test)\n",
    "    y_pred = predictions\n",
    "\n",
    "    # Menghitung akurasi\n",
    "    accuracy = accuracy_score(y_test.argmax(axis=1), y_pred.argmax(axis=1))\n",
    "\n",
    "    # Menampilkan hasil\n",
    "    print(f\"Iterasi ke-{iteration}\")\n",
    "    print(classification_report(y_test.argmax(axis=1), y_pred.argmax(axis=1)))\n",
    "    print(\"======================================================\")\n",
    "\n",
    "    accuracies.append(accuracy)\n",
    "\n",
    "# Menghitung rata-rata akurasi\n",
    "average_accuracy = np.mean(accuracies)\n",
    "\n",
    "print(\"\\n\\n\\n\")\n",
    "print(\"Rata-rata Akurasi:\", round(average_accuracy, 4))"
   ]
  },
  {
   "cell_type": "code",
   "execution_count": 16,
   "metadata": {},
   "outputs": [
    {
     "data": {
      "image/png": "[encoded data removed]",
      "text/plain": [
       "<Figure size 1200x600 with 2 Axes>"
      ]
     },
     "metadata": {},
     "output_type": "display_data"
    }
   ],
   "source": [
    "def plot_history(history):\n",
    "    acc = history.history['accuracy']\n",
    "    val_acc = history.history['val_accuracy']\n",
    "    loss = history.history['loss']\n",
    "    val_loss = history.history['val_loss']\n",
    "    epochs = range(1, len(acc) + 1)\n",
    "\n",
    "    plt.figure(figsize=(12, 6))\n",
    "\n",
    "    # Plot Akurasi\n",
    "    plt.subplot(1, 2, 1)\n",
    "    plt.plot(epochs, acc, 'g', label='Training Acc')\n",
    "    plt.plot(epochs, val_acc, 'y', label='Validation Acc')\n",
    "    plt.title('Training and Validation Accuracy')\n",
    "    plt.xlabel('Epochs')\n",
    "    plt.ylabel('Accuracy')\n",
    "    plt.legend()\n",
    "    sns.despine()\n",
    "\n",
    "    # Plot Loss\n",
    "    plt.subplot(1, 2, 2)\n",
    "    plt.plot(epochs, loss, 'g', label='Training Loss')\n",
    "    plt.plot(epochs, val_loss, 'y', label='Validation Loss')\n",
    "    plt.title('Training and Validation Loss')\n",
    "    plt.xlabel('Epochs')\n",
    "    plt.ylabel('Loss')\n",
    "    plt.legend()\n",
    "    sns.despine()\n",
    "\n",
    "    plt.tight_layout()\n",
    "    plt.show()\n",
    "\n",
    "# Memanggil fungsi plot_history untuk memvisualisasikan hasil\n",
    "plot_history(history)"
   ]
  },
  {
   "cell_type": "code",
   "execution_count": 24,
   "metadata": {},
   "outputs": [
    {
     "name": "stdout",
     "output_type": "stream",
     "text": [
      "Model has created\n"
     ]
    }
   ],
   "source": [
    "#Save model\n",
    "trained_model.save('main_model_new.h5')\n",
    "print('Model has created')\n"
   ]
  },
  {
   "cell_type": "code",
   "execution_count": 17,
   "metadata": {},
   "outputs": [
    {
     "name": "stdout",
     "output_type": "stream",
     "text": [
      "1/1 [==============================] - 0s 356ms/step\n",
      "Tokenized Sequence: [[293, 32]]\n",
      "Text: dasar anak jalang\n",
      "Sentiment: neutral\n",
      "Polarity: 1\n"
     ]
    }
   ],
   "source": [
    "input_text = \"\"\"DASAR ANAK JALANG\"\"\"\n",
    "def cleansing(text):\n",
    "    # Mengubah teks menjadi huruf kecil\n",
    "    text = text.lower()\n",
    "    # Menghapus URL dan tautan\n",
    "    text = re.sub(r'((www\\.[^\\s]+)|(https?://[^\\s]+)|(http?://[^\\s]+))', ' ', text)\n",
    "    text = re.sub(r'pic.twitter.com.[\\w]+', ' ', text)\n",
    "    # Menghapus karakter yang tidak diinginkan, termasuk angka\n",
    "    text = re.sub(r'[^a-z\\s]', ' ', text)\n",
    "    # Menghapus kata 'user'\n",
    "    text = text.replace('user', '')\n",
    "    # Menghapus spasi berlebih\n",
    "    text = re.sub(' +', ' ', text)\n",
    "    # Menghapus karakter \\n (newline)\n",
    "    text = text.replace('\\n', ' ')\n",
    "    # menghapus kata 'url' \n",
    "    text = re.sub('url',' ', text)\n",
    "    return text\n",
    "\n",
    "sentiment = ['negative', 'neutral','positive']\n",
    "\n",
    "text = [cleansing(input_text)]\n",
    "predicted = data_tokenizer.texts_to_sequences(text)\n",
    "guess = pad_sequences(predicted, maxlen=X.shape[1])\n",
    "model1 = load_model('main_model_new.h5')\n",
    "\n",
    "\n",
    "\n",
    "prediction = model1.predict(guess)\n",
    "polarity = np.argmax(prediction[0])\n",
    "hasil = sentiment[polarity]\n",
    "print(\"Tokenized Sequence: %s\" % predicted)\n",
    "\n",
    "\n",
    "print(\"Text: %s\" % text[0])\n",
    "print(\"Sentiment: %s\" % sentiment[polarity])\n",
    "print(\"Polarity: %s\" % polarity)\n"
   ]
  },
  {
   "cell_type": "code",
   "execution_count": 23,
   "metadata": {},
   "outputs": [
    {
     "name": "stdout",
     "output_type": "stream",
     "text": [
      "1/1 [==============================] - 0s 371ms/step\n",
      "Text: aduh\n",
      "Sentiment: neutral\n"
     ]
    }
   ],
   "source": [
    "input_text = \"\"\"aduh\"\"\"\n",
    "def cleansing(text):\n",
    "    text = text.lower()\n",
    "    text = re.sub(r'((www\\.[^\\s]+)|(https?://[^\\s]+)|(http?://[^\\s]+))', ' ', text)\n",
    "    text = re.sub(r'pic.twitter.com.[\\w]+', ' ', text)\n",
    "    text = re.sub(r'[^a-z\\s]', ' ', text)\n",
    "    text = text.replace('user', '')\n",
    "    text = re.sub(' +', ' ', text)\n",
    "    text = text.replace('\\n', ' ')\n",
    "    return text\n",
    "\n",
    "sentiment = ['negative', 'neutral', 'positive']\n",
    "\n",
    "text = [cleansing(input_text)]\n",
    "predicted = data_tokenizer.texts_to_sequences(text)\n",
    "guess = pad_sequences(predicted, maxlen=X.shape[1])\n",
    "\n",
    "model1 = load_model('main_model_new.h5')\n",
    "prediction = model1.predict(guess)\n",
    "polarity = np.argmax(prediction[0])\n",
    "hasil = sentiment[polarity]\n",
    "\n",
    "print(\"Text: %s\" % text[0])\n",
    "print(\"Sentiment: %s\" % sentiment[polarity])"
   ]
  },
  {
   "cell_type": "code",
   "execution_count": 20,
   "metadata": {},
   "outputs": [
    {
     "name": "stdout",
     "output_type": "stream",
     "text": [
      "WARNING:tensorflow:5 out of the last 128 calls to <function Model.make_predict_function.<locals>.predict_function at 0x00000249001B5760> triggered tf.function retracing. Tracing is expensive and the excessive number of tracings could be due to (1) creating @tf.function repeatedly in a loop, (2) passing tensors with different shapes, (3) passing Python objects instead of tensors. For (1), please define your @tf.function outside of the loop. For (2), @tf.function has reduce_retracing=True option that can avoid unnecessary retracing. For (3), please refer to https://www.tensorflow.org/guide/function#controlling_retracing and https://www.tensorflow.org/api_docs/python/tf/function for  more details.\n",
      "1/1 [==============================] - 0s 388ms/step\n",
      "Tokenized Sequence: [[293, 798, 585, 1149, 2742]]\n",
      "Text: dasar tolol bodoh tidak sopan kurang ajar\n",
      "Sentiment: neutral\n",
      "Polarity: 1\n"
     ]
    }
   ],
   "source": [
    "input_text = \"\"\"dasar tolol bodoh tidak sopan kurang ajar\"\"\"\n",
    "def cleansing(text):\n",
    "    # Mengubah teks menjadi huruf kecil\n",
    "    text = text.lower()\n",
    "    # Menghapus URL dan tautan\n",
    "    text = re.sub(r'((www\\.[^\\s]+)|(https?://[^\\s]+)|(http?://[^\\s]+))', ' ', text)\n",
    "    text = re.sub(r'pic.twitter.com.[\\w]+', ' ', text)\n",
    "    # Menghapus karakter yang tidak diinginkan, termasuk angka\n",
    "    text = re.sub(r'[^a-z\\s]', ' ', text)\n",
    "    # Menghapus kata 'user'\n",
    "    text = text.replace('user', '')\n",
    "    # Menghapus spasi berlebih\n",
    "    text = re.sub(' +', ' ', text)\n",
    "    # Menghapus karakter \\n (newline)\n",
    "    text = text.replace('\\n', ' ')\n",
    "    # menghapus kata 'url' \n",
    "    text = re.sub('url',' ', text)\n",
    "    return text\n",
    "\n",
    "sentiment = ['negative', 'neutral','positive']\n",
    "\n",
    "text = [cleansing(input_text)]\n",
    "predicted = data_tokenizer.texts_to_sequences(text)\n",
    "guess = pad_sequences(predicted, maxlen=X.shape[1])\n",
    "\n",
    "model1 =  load_model('main_model_new.h5')\n",
    "prediction = model1.predict(guess)\n",
    "polarity = np.argmax(prediction[0])\n",
    "hasil = sentiment[polarity]\n",
    "print(\"Tokenized Sequence: %s\" % predicted)\n",
    "\n",
    "\n",
    "print(\"Text: %s\" % text[0])\n",
    "print(\"Sentiment: %s\" % sentiment[polarity])\n",
    "print(\"Polarity: %s\" % polarity)\n"
   ]
  }
 ],
 "metadata": {
  "kernelspec": {
   "display_name": "Python 3",
   "language": "python",
   "name": "python3"
  },
  "language_info": {
   "codemirror_mode": {
    "name": "ipython",
    "version": 3
   },
   "file_extension": ".py",
   "mimetype": "text/x-python",
   "name": "python",
   "nbconvert_exporter": "python",
   "pygments_lexer": "ipython3",
   "version": "3.11.4"
  }
 },
 "nbformat": 4,
 "nbformat_minor": 2
}
