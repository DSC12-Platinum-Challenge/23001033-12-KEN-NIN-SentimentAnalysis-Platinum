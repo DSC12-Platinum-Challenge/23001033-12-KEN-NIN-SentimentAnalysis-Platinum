{
 "cells": [
  {
   "cell_type": "code",
   "execution_count": 1,
   "metadata": {},
   "outputs": [],
   "source": [
    "import re, pickle\n",
    "import pandas as pd\n",
    "import sqlite3 as sql\n",
    "import numpy as np\n",
    "from flask import Flask, jsonify\n",
    "from flask import request\n",
    "from flask import Response\n",
    "from flasgger import Swagger, LazyString, LazyJSONEncoder\n",
    "from flasgger import swag_from\n",
    "from tensorflow.keras.preprocessing.text import Tokenizer\n",
    "from tensorflow.keras.preprocessing.sequence import pad_sequences\n",
    "from keras.models import load_model\n"
   ]
  },
  {
   "cell_type": "code",
   "execution_count": 5,
   "metadata": {},
   "outputs": [
    {
     "name": "stdout",
     "output_type": "stream",
     "text": [
      "1/1 [==============================] - 1s 615ms/step\n",
      "Text: jakarta tidak terlihat menarik\n",
      "Sentiment: negative\n"
     ]
    }
   ],
   "source": [
    "input_text = \"\"\"Jakarta tidak terlihat menarik\"\"\"\n",
    "max_features = 100000\n",
    "tokenizer = Tokenizer(num_words=max_features, split=' ',lower=True)\n",
    "#tokenizer.fit_on_texts(input_text)\n",
    "lstm = open (\"x_pad_sequences_new.pickle\",'rb')\n",
    "lstm_file = pickle.load(lstm)\n",
    "lstm.close()\n",
    "\n",
    "#tokenizer_file = open(\"LSTM_Files/TokenizerFile.pickle\")\n",
    "#tokenizer_file1 = pickle.load(tokenizer_file)\n",
    "#tokenizer_file.close()\n",
    "model = load_model(\"C:\\\\Users\\\\kenta\\\\OneDrive\\\\Desktop\\\\Platinum Binar\\\\LSTM_Files\\\\main_model.h5\")\n",
    "\n",
    "#Model file\n",
    "lstm_model = load_model(\"C:\\\\Users\\\\kenta\\\\OneDrive\\\\Desktop\\\\Platinum Binar\\\\LSTM_Files\\\\model.h5\")\n",
    "def cleansing(text):\n",
    "    text = text.lower()\n",
    "    text = re.sub(r'((www\\.[^\\s]+)|(https?://[^\\s]+)|(http?://[^\\s]+))', ' ', text)\n",
    "    text = re.sub(r'pic.twitter.com.[\\w]+', ' ', text)\n",
    "    text = re.sub(r'[^a-z\\s]', ' ', text)\n",
    "    text = text.replace('user', '')\n",
    "    text = re.sub(' +', ' ', text)\n",
    "    text = text.replace('\\n', ' ')\n",
    "    return text\n",
    "\n",
    "sentiment = ['negative', 'neutral', 'positive']\n",
    "\n",
    "text = [cleansing(input_text)]\n",
    "feature = tokenizer.texts_to_sequences(text)\n",
    "feature_pad_sequences = pad_sequences(feature, maxlen=lstm_file.shape[1])\n",
    "\n",
    "\n",
    "prediction = model.predict(feature_pad_sequences)\n",
    "polarity = np.argmax(prediction[0])\n",
    "hasil = sentiment[polarity]\n",
    "\n",
    "print(\"Text: %s\" % text[0])\n",
    "print(\"Sentiment: %s\" % sentiment[polarity])"
   ]
  },
  {
   "cell_type": "code",
   "execution_count": 16,
   "metadata": {},
   "outputs": [
    {
     "data": {
      "text/plain": [
       "47"
      ]
     },
     "execution_count": 16,
     "metadata": {},
     "output_type": "execute_result"
    }
   ],
   "source": [
    "X = pad_sequences(X)\n",
    "len(X)"
   ]
  },
  {
   "cell_type": "code",
   "execution_count": 17,
   "metadata": {},
   "outputs": [
    {
     "data": {
      "text/plain": [
       "47"
      ]
     },
     "execution_count": 17,
     "metadata": {},
     "output_type": "execute_result"
    }
   ],
   "source": [
    "len(input_text)"
   ]
  },
  {
   "cell_type": "code",
   "execution_count": 4,
   "metadata": {},
   "outputs": [
    {
     "data": {
      "text/plain": [
       "85"
      ]
     },
     "execution_count": 4,
     "metadata": {},
     "output_type": "execute_result"
    }
   ],
   "source": [
    "lstm_file.shape[1]"
   ]
  },
  {
   "cell_type": "code",
   "execution_count": 18,
   "metadata": {},
   "outputs": [
    {
     "data": {
      "text/plain": [
       "array([[   0,    0,    0, ...,  479,   17, 2325],\n",
       "       [   0,    0,    0, ...,   15,    8,    8],\n",
       "       [   0,    0,    0, ..., 6086,  217,   56],\n",
       "       ...,\n",
       "       [   0,    0,    0, ..., 1010,    5,   23],\n",
       "       [   0,    0,    0, ...,  199,  265, 5024],\n",
       "       [   0,    0,    0, ..., 1211,    4,  648]])"
      ]
     },
     "execution_count": 18,
     "metadata": {},
     "output_type": "execute_result"
    }
   ],
   "source": [
    "lstm_file"
   ]
  }
 ],
 "metadata": {
  "kernelspec": {
   "display_name": "Python 3",
   "language": "python",
   "name": "python3"
  },
  "language_info": {
   "codemirror_mode": {
    "name": "ipython",
    "version": 3
   },
   "file_extension": ".py",
   "mimetype": "text/x-python",
   "name": "python",
   "nbconvert_exporter": "python",
   "pygments_lexer": "ipython3",
   "version": "3.11.4"
  }
 },
 "nbformat": 4,
 "nbformat_minor": 2
}
